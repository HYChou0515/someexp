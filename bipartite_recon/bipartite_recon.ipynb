{
 "cells": [
  {
   "cell_type": "markdown",
   "id": "f17fd4db-aa31-4605-b4b3-7e7bc9abc752",
   "metadata": {},
   "source": [
    "# Exploring Content-Based Recommendation Systems in Bipartite Graphs\n",
    "\n",
    "This notebook investigates content-based recommendation systems within bipartite graphs. These systems utilize object similarity to predict unobserved edges, offering the potential for improved recommendation accuracy and an enhanced user experience. We explore the fundamentals of this approach, where object attributes and relationships are leveraged to create tailored suggestions. Central to our investigation is the assumption of similarity between objects, which forms the bedrock for predicting associations. By estimating unobserved connections through observed ones, we highlight the effectiveness of this method and its significance in the landscape of personalization and content consumption. This work sheds light on the mechanisms underpinning content-based recommendation systems and their potential to redefine user interactions with digital content.\n"
   ]
  },
  {
   "cell_type": "code",
   "execution_count": 38,
   "id": "8f51042b-1c92-4d52-bf6e-d3d400ed7864",
   "metadata": {
    "ExecuteTime": {
     "end_time": "2023-10-22T10:39:15.796477Z",
     "start_time": "2023-10-22T10:39:15.729010Z"
    }
   },
   "outputs": [],
   "source": [
    "# In this notebook, we will try to estimate the objective function of\n",
    "# two complex attributes. Each attribute should be embedded before\n",
    "# being used in the objective function. \n",
    "# Finally, we will test that given one attribute, find the other one\n",
    "# such that the objective function is maximized."
   ]
  },
  {
   "cell_type": "code",
   "execution_count": 39,
   "id": "e0ca7b32ee53dac9",
   "metadata": {
    "ExecuteTime": {
     "end_time": "2023-10-22T10:39:15.800164Z",
     "start_time": "2023-10-22T10:39:15.788723Z"
    },
    "collapsed": false
   },
   "outputs": [],
   "source": [
    "# good reference:\n",
    "# How to estimate other attributes given one attribute\n",
    "# https://stackoverflow.com/a/43402975/5441945\n",
    "# https://keras.io/examples/vision/visualizing_what_convnets_learn/"
   ]
  },
  {
   "cell_type": "code",
   "execution_count": 40,
   "id": "3169b67504861012",
   "metadata": {
    "ExecuteTime": {
     "end_time": "2023-10-22T10:39:15.829293Z",
     "start_time": "2023-10-22T10:39:15.811314Z"
    },
    "collapsed": false
   },
   "outputs": [],
   "source": [
    "import numpy as np\n",
    "import pandas as pd\n",
    "import tensorflow as tf\n",
    "from tensorflow.keras import Model\n",
    "from tensorflow.keras import layers\n",
    "from tensorflow.keras.callbacks import EarlyStopping\n",
    "from tensorflow.keras.losses import MeanSquaredError\n",
    "from tensorflow.keras.optimizers import Adam\n",
    "from tensorflow.keras.utils import plot_model\n",
    "from tqdm.auto import tqdm\n",
    "import matplotlib.pyplot as plt\n"
   ]
  },
  {
   "cell_type": "code",
   "execution_count": 41,
   "id": "210bf2d6f5df6eb9",
   "metadata": {
    "ExecuteTime": {
     "end_time": "2023-10-22T10:39:17.416302Z",
     "start_time": "2023-10-22T10:39:15.832678Z"
    },
    "collapsed": false
   },
   "outputs": [
    {
     "data": {
      "text/html": [
       "<div>\n",
       "<style scoped>\n",
       "    .dataframe tbody tr th:only-of-type {\n",
       "        vertical-align: middle;\n",
       "    }\n",
       "\n",
       "    .dataframe tbody tr th {\n",
       "        vertical-align: top;\n",
       "    }\n",
       "\n",
       "    .dataframe thead th {\n",
       "        text-align: right;\n",
       "    }\n",
       "</style>\n",
       "<table border=\"1\" class=\"dataframe\">\n",
       "  <thead>\n",
       "    <tr style=\"text-align: right;\">\n",
       "      <th></th>\n",
       "      <th>Length</th>\n",
       "      <th>Diameter</th>\n",
       "      <th>Height</th>\n",
       "      <th>Whole_weight</th>\n",
       "      <th>Shucked_weight</th>\n",
       "      <th>Viscera_weight</th>\n",
       "      <th>Shell_weight</th>\n",
       "    </tr>\n",
       "  </thead>\n",
       "  <tbody>\n",
       "    <tr>\n",
       "      <th>count</th>\n",
       "      <td>4177.000000</td>\n",
       "      <td>4177.000000</td>\n",
       "      <td>4177.000000</td>\n",
       "      <td>4177.000000</td>\n",
       "      <td>4177.000000</td>\n",
       "      <td>4177.000000</td>\n",
       "      <td>4177.000000</td>\n",
       "    </tr>\n",
       "    <tr>\n",
       "      <th>mean</th>\n",
       "      <td>0.523992</td>\n",
       "      <td>0.407881</td>\n",
       "      <td>0.139516</td>\n",
       "      <td>0.828742</td>\n",
       "      <td>0.359367</td>\n",
       "      <td>0.180594</td>\n",
       "      <td>0.238831</td>\n",
       "    </tr>\n",
       "    <tr>\n",
       "      <th>std</th>\n",
       "      <td>0.120093</td>\n",
       "      <td>0.099240</td>\n",
       "      <td>0.041827</td>\n",
       "      <td>0.490389</td>\n",
       "      <td>0.221963</td>\n",
       "      <td>0.109614</td>\n",
       "      <td>0.139203</td>\n",
       "    </tr>\n",
       "    <tr>\n",
       "      <th>min</th>\n",
       "      <td>0.075000</td>\n",
       "      <td>0.055000</td>\n",
       "      <td>0.000000</td>\n",
       "      <td>0.002000</td>\n",
       "      <td>0.001000</td>\n",
       "      <td>0.000500</td>\n",
       "      <td>0.001500</td>\n",
       "    </tr>\n",
       "    <tr>\n",
       "      <th>25%</th>\n",
       "      <td>0.450000</td>\n",
       "      <td>0.350000</td>\n",
       "      <td>0.115000</td>\n",
       "      <td>0.441500</td>\n",
       "      <td>0.186000</td>\n",
       "      <td>0.093500</td>\n",
       "      <td>0.130000</td>\n",
       "    </tr>\n",
       "    <tr>\n",
       "      <th>50%</th>\n",
       "      <td>0.545000</td>\n",
       "      <td>0.425000</td>\n",
       "      <td>0.140000</td>\n",
       "      <td>0.799500</td>\n",
       "      <td>0.336000</td>\n",
       "      <td>0.171000</td>\n",
       "      <td>0.234000</td>\n",
       "    </tr>\n",
       "    <tr>\n",
       "      <th>75%</th>\n",
       "      <td>0.615000</td>\n",
       "      <td>0.480000</td>\n",
       "      <td>0.165000</td>\n",
       "      <td>1.153000</td>\n",
       "      <td>0.502000</td>\n",
       "      <td>0.253000</td>\n",
       "      <td>0.329000</td>\n",
       "    </tr>\n",
       "    <tr>\n",
       "      <th>max</th>\n",
       "      <td>0.815000</td>\n",
       "      <td>0.650000</td>\n",
       "      <td>1.130000</td>\n",
       "      <td>2.825500</td>\n",
       "      <td>1.488000</td>\n",
       "      <td>0.760000</td>\n",
       "      <td>1.005000</td>\n",
       "    </tr>\n",
       "  </tbody>\n",
       "</table>\n",
       "</div>"
      ],
      "text/plain": [
       "            Length     Diameter       Height  Whole_weight  Shucked_weight  \\\n",
       "count  4177.000000  4177.000000  4177.000000   4177.000000     4177.000000   \n",
       "mean      0.523992     0.407881     0.139516      0.828742        0.359367   \n",
       "std       0.120093     0.099240     0.041827      0.490389        0.221963   \n",
       "min       0.075000     0.055000     0.000000      0.002000        0.001000   \n",
       "25%       0.450000     0.350000     0.115000      0.441500        0.186000   \n",
       "50%       0.545000     0.425000     0.140000      0.799500        0.336000   \n",
       "75%       0.615000     0.480000     0.165000      1.153000        0.502000   \n",
       "max       0.815000     0.650000     1.130000      2.825500        1.488000   \n",
       "\n",
       "       Viscera_weight  Shell_weight  \n",
       "count     4177.000000   4177.000000  \n",
       "mean         0.180594      0.238831  \n",
       "std          0.109614      0.139203  \n",
       "min          0.000500      0.001500  \n",
       "25%          0.093500      0.130000  \n",
       "50%          0.171000      0.234000  \n",
       "75%          0.253000      0.329000  \n",
       "max          0.760000      1.005000  "
      ]
     },
     "execution_count": 40,
     "metadata": {},
     "output_type": "execute_result"
    }
   ],
   "source": [
    "# load a dataset from internet\n",
    "from ucimlrepo import fetch_ucirepo\n",
    "\n",
    "# fetch dataset \n",
    "abalone = fetch_ucirepo(id=1)\n",
    "\n",
    "# data (as pandas dataframes) \n",
    "\n",
    "X = abalone.data.features.to_numpy()\n",
    "abalone.data.features.describe()"
   ]
  },
  {
   "cell_type": "code",
   "execution_count": 42,
   "id": "609a7a1ad7b88ebf",
   "metadata": {
    "ExecuteTime": {
     "end_time": "2023-10-22T10:39:17.416387Z",
     "start_time": "2023-10-22T10:39:17.407860Z"
    },
    "collapsed": false
   },
   "outputs": [],
   "source": [
    "rng = np.random.default_rng(12345)"
   ]
  },
  {
   "cell_type": "code",
   "execution_count": 43,
   "id": "6ae6086bbed308b3",
   "metadata": {
    "ExecuteTime": {
     "end_time": "2023-10-22T10:39:17.417590Z",
     "start_time": "2023-10-22T10:39:17.407956Z"
    },
    "collapsed": false
   },
   "outputs": [],
   "source": [
    "attr1 = X[:, 1:4].astype(np.float32)\n",
    "attr2 = X[:, 4:8].astype(np.float32)\n",
    "attr1_dimension = attr1.shape[1]\n",
    "attr2_dimension = attr2.shape[1]"
   ]
  },
  {
   "cell_type": "code",
   "execution_count": 44,
   "id": "9c1ef1c2abea919c",
   "metadata": {
    "ExecuteTime": {
     "end_time": "2023-10-22T10:39:17.417619Z",
     "start_time": "2023-10-22T10:39:17.407988Z"
    },
    "collapsed": false
   },
   "outputs": [],
   "source": [
    "# # hack attr1 and attr2 as meshgrid from 0 to 1 and preserve the original shape\n",
    "# attr1 = rng.random((100000, attr1_dimension)) * (attr1.max(axis=0)-attr1.min(axis=0)) + attr1.min(axis=0)\n",
    "# attr2 = rng.random((100000, attr2_dimension)) * (attr2.max(axis=0)-attr2.min(axis=0)) + attr2.min(axis=0)"
   ]
  },
  {
   "cell_type": "code",
   "execution_count": 45,
   "id": "2e901e4a9e93f261",
   "metadata": {
    "ExecuteTime": {
     "end_time": "2023-10-22T10:39:17.418872Z",
     "start_time": "2023-10-22T10:39:17.408013Z"
    },
    "collapsed": false
   },
   "outputs": [
    {
     "data": {
      "text/html": [
       "<div>\n",
       "<style scoped>\n",
       "    .dataframe tbody tr th:only-of-type {\n",
       "        vertical-align: middle;\n",
       "    }\n",
       "\n",
       "    .dataframe tbody tr th {\n",
       "        vertical-align: top;\n",
       "    }\n",
       "\n",
       "    .dataframe thead th {\n",
       "        text-align: right;\n",
       "    }\n",
       "</style>\n",
       "<table border=\"1\" class=\"dataframe\">\n",
       "  <thead>\n",
       "    <tr style=\"text-align: right;\">\n",
       "      <th></th>\n",
       "      <th>0</th>\n",
       "      <th>1</th>\n",
       "      <th>2</th>\n",
       "    </tr>\n",
       "  </thead>\n",
       "  <tbody>\n",
       "    <tr>\n",
       "      <th>count</th>\n",
       "      <td>4177.000000</td>\n",
       "      <td>4177.000000</td>\n",
       "      <td>4177.000000</td>\n",
       "    </tr>\n",
       "    <tr>\n",
       "      <th>mean</th>\n",
       "      <td>0.523992</td>\n",
       "      <td>0.407881</td>\n",
       "      <td>0.139516</td>\n",
       "    </tr>\n",
       "    <tr>\n",
       "      <th>std</th>\n",
       "      <td>0.120093</td>\n",
       "      <td>0.099240</td>\n",
       "      <td>0.041827</td>\n",
       "    </tr>\n",
       "    <tr>\n",
       "      <th>min</th>\n",
       "      <td>0.075000</td>\n",
       "      <td>0.055000</td>\n",
       "      <td>0.000000</td>\n",
       "    </tr>\n",
       "    <tr>\n",
       "      <th>25%</th>\n",
       "      <td>0.450000</td>\n",
       "      <td>0.350000</td>\n",
       "      <td>0.115000</td>\n",
       "    </tr>\n",
       "    <tr>\n",
       "      <th>50%</th>\n",
       "      <td>0.545000</td>\n",
       "      <td>0.425000</td>\n",
       "      <td>0.140000</td>\n",
       "    </tr>\n",
       "    <tr>\n",
       "      <th>75%</th>\n",
       "      <td>0.615000</td>\n",
       "      <td>0.480000</td>\n",
       "      <td>0.165000</td>\n",
       "    </tr>\n",
       "    <tr>\n",
       "      <th>max</th>\n",
       "      <td>0.815000</td>\n",
       "      <td>0.650000</td>\n",
       "      <td>1.130000</td>\n",
       "    </tr>\n",
       "  </tbody>\n",
       "</table>\n",
       "</div>"
      ],
      "text/plain": [
       "                 0            1            2\n",
       "count  4177.000000  4177.000000  4177.000000\n",
       "mean      0.523992     0.407881     0.139516\n",
       "std       0.120093     0.099240     0.041827\n",
       "min       0.075000     0.055000     0.000000\n",
       "25%       0.450000     0.350000     0.115000\n",
       "50%       0.545000     0.425000     0.140000\n",
       "75%       0.615000     0.480000     0.165000\n",
       "max       0.815000     0.650000     1.130000"
      ]
     },
     "execution_count": 44,
     "metadata": {},
     "output_type": "execute_result"
    }
   ],
   "source": [
    "pd.DataFrame(attr1).describe()"
   ]
  },
  {
   "cell_type": "code",
   "execution_count": 46,
   "id": "92da1ce7387ce7b2",
   "metadata": {
    "ExecuteTime": {
     "end_time": "2023-10-22T10:39:17.419453Z",
     "start_time": "2023-10-22T10:39:17.408044Z"
    },
    "collapsed": false
   },
   "outputs": [],
   "source": [
    "def real_objective(arr1, arr2):\n",
    "    # return a complex arbitrary function of arr1 and arr2\n",
    "    # quadratic term with maximum at attr2 = [1.3, 0.7, 0.4, 0.5]\n",
    "    quadratic_term = (arr2[:,0]-1.3)**2 + 5*(arr2[:,0]-1.3)**4 + 2*(arr2[:,1]-0.7)**2 + 6*(arr2[:,2]-0.4)**2 + 8*(arr2[:,3]-0.5)**2\n",
    "    quadratic_term += arr1[:,0]*arr2[:,0] + 3*arr1[:,1]*arr2[:,1] + 2*arr1[:,2]*arr2[:,2]\n",
    "    return np.sum(arr1, axis=1) + 3*np.cos(arr1[:, 0]) + 2*np.cos(arr1[:, 1]) - quadratic_term\n"
   ]
  },
  {
   "cell_type": "code",
   "execution_count": 47,
   "id": "58c79f6b36716d27",
   "metadata": {
    "ExecuteTime": {
     "end_time": "2023-10-22T10:39:17.420205Z",
     "start_time": "2023-10-22T10:39:17.408107Z"
    },
    "collapsed": false
   },
   "outputs": [
    {
     "data": {
      "text/html": [
       "<div>\n",
       "<style scoped>\n",
       "    .dataframe tbody tr th:only-of-type {\n",
       "        vertical-align: middle;\n",
       "    }\n",
       "\n",
       "    .dataframe tbody tr th {\n",
       "        vertical-align: top;\n",
       "    }\n",
       "\n",
       "    .dataframe thead th {\n",
       "        text-align: right;\n",
       "    }\n",
       "</style>\n",
       "<table border=\"1\" class=\"dataframe\">\n",
       "  <thead>\n",
       "    <tr style=\"text-align: right;\">\n",
       "      <th></th>\n",
       "      <th>Length</th>\n",
       "      <th>Diameter</th>\n",
       "      <th>Height</th>\n",
       "      <th>Whole_weight</th>\n",
       "      <th>Shucked_weight</th>\n",
       "      <th>Viscera_weight</th>\n",
       "      <th>Shell_weight</th>\n",
       "      <th>y_true</th>\n",
       "    </tr>\n",
       "  </thead>\n",
       "  <tbody>\n",
       "    <tr>\n",
       "      <th>0</th>\n",
       "      <td>0.455</td>\n",
       "      <td>0.365</td>\n",
       "      <td>0.095</td>\n",
       "      <td>0.5140</td>\n",
       "      <td>0.2245</td>\n",
       "      <td>0.1010</td>\n",
       "      <td>0.150</td>\n",
       "      <td>0.484382</td>\n",
       "    </tr>\n",
       "    <tr>\n",
       "      <th>1</th>\n",
       "      <td>0.350</td>\n",
       "      <td>0.265</td>\n",
       "      <td>0.090</td>\n",
       "      <td>0.2255</td>\n",
       "      <td>0.0995</td>\n",
       "      <td>0.0485</td>\n",
       "      <td>0.070</td>\n",
       "      <td>-5.474650</td>\n",
       "    </tr>\n",
       "    <tr>\n",
       "      <th>2</th>\n",
       "      <td>0.530</td>\n",
       "      <td>0.420</td>\n",
       "      <td>0.135</td>\n",
       "      <td>0.6770</td>\n",
       "      <td>0.2565</td>\n",
       "      <td>0.1415</td>\n",
       "      <td>0.210</td>\n",
       "      <td>2.170927</td>\n",
       "    </tr>\n",
       "    <tr>\n",
       "      <th>3</th>\n",
       "      <td>0.440</td>\n",
       "      <td>0.365</td>\n",
       "      <td>0.125</td>\n",
       "      <td>0.5160</td>\n",
       "      <td>0.2155</td>\n",
       "      <td>0.1140</td>\n",
       "      <td>0.155</td>\n",
       "      <td>0.604868</td>\n",
       "    </tr>\n",
       "    <tr>\n",
       "      <th>4</th>\n",
       "      <td>0.330</td>\n",
       "      <td>0.255</td>\n",
       "      <td>0.080</td>\n",
       "      <td>0.2050</td>\n",
       "      <td>0.0895</td>\n",
       "      <td>0.0395</td>\n",
       "      <td>0.055</td>\n",
       "      <td>-6.200693</td>\n",
       "    </tr>\n",
       "    <tr>\n",
       "      <th>...</th>\n",
       "      <td>...</td>\n",
       "      <td>...</td>\n",
       "      <td>...</td>\n",
       "      <td>...</td>\n",
       "      <td>...</td>\n",
       "      <td>...</td>\n",
       "      <td>...</td>\n",
       "      <td>...</td>\n",
       "    </tr>\n",
       "    <tr>\n",
       "      <th>95</th>\n",
       "      <td>0.665</td>\n",
       "      <td>0.535</td>\n",
       "      <td>0.195</td>\n",
       "      <td>1.6060</td>\n",
       "      <td>0.5755</td>\n",
       "      <td>0.3880</td>\n",
       "      <td>0.480</td>\n",
       "      <td>3.160761</td>\n",
       "    </tr>\n",
       "    <tr>\n",
       "      <th>96</th>\n",
       "      <td>0.535</td>\n",
       "      <td>0.435</td>\n",
       "      <td>0.150</td>\n",
       "      <td>0.7250</td>\n",
       "      <td>0.2690</td>\n",
       "      <td>0.1385</td>\n",
       "      <td>0.250</td>\n",
       "      <td>2.575071</td>\n",
       "    </tr>\n",
       "    <tr>\n",
       "      <th>97</th>\n",
       "      <td>0.470</td>\n",
       "      <td>0.375</td>\n",
       "      <td>0.130</td>\n",
       "      <td>0.5230</td>\n",
       "      <td>0.2140</td>\n",
       "      <td>0.1320</td>\n",
       "      <td>0.145</td>\n",
       "      <td>0.652132</td>\n",
       "    </tr>\n",
       "    <tr>\n",
       "      <th>98</th>\n",
       "      <td>0.470</td>\n",
       "      <td>0.370</td>\n",
       "      <td>0.130</td>\n",
       "      <td>0.5225</td>\n",
       "      <td>0.2010</td>\n",
       "      <td>0.1330</td>\n",
       "      <td>0.165</td>\n",
       "      <td>0.750914</td>\n",
       "    </tr>\n",
       "    <tr>\n",
       "      <th>99</th>\n",
       "      <td>0.475</td>\n",
       "      <td>0.375</td>\n",
       "      <td>0.125</td>\n",
       "      <td>0.5785</td>\n",
       "      <td>0.2775</td>\n",
       "      <td>0.0850</td>\n",
       "      <td>0.155</td>\n",
       "      <td>1.115619</td>\n",
       "    </tr>\n",
       "  </tbody>\n",
       "</table>\n",
       "<p>100 rows × 8 columns</p>\n",
       "</div>"
      ],
      "text/plain": [
       "    Length  Diameter  Height  Whole_weight  Shucked_weight  Viscera_weight  \\\n",
       "0    0.455     0.365   0.095        0.5140          0.2245          0.1010   \n",
       "1    0.350     0.265   0.090        0.2255          0.0995          0.0485   \n",
       "2    0.530     0.420   0.135        0.6770          0.2565          0.1415   \n",
       "3    0.440     0.365   0.125        0.5160          0.2155          0.1140   \n",
       "4    0.330     0.255   0.080        0.2050          0.0895          0.0395   \n",
       "..     ...       ...     ...           ...             ...             ...   \n",
       "95   0.665     0.535   0.195        1.6060          0.5755          0.3880   \n",
       "96   0.535     0.435   0.150        0.7250          0.2690          0.1385   \n",
       "97   0.470     0.375   0.130        0.5230          0.2140          0.1320   \n",
       "98   0.470     0.370   0.130        0.5225          0.2010          0.1330   \n",
       "99   0.475     0.375   0.125        0.5785          0.2775          0.0850   \n",
       "\n",
       "    Shell_weight    y_true  \n",
       "0          0.150  0.484382  \n",
       "1          0.070 -5.474650  \n",
       "2          0.210  2.170927  \n",
       "3          0.155  0.604868  \n",
       "4          0.055 -6.200693  \n",
       "..           ...       ...  \n",
       "95         0.480  3.160761  \n",
       "96         0.250  2.575071  \n",
       "97         0.145  0.652132  \n",
       "98         0.165  0.750914  \n",
       "99         0.155  1.115619  \n",
       "\n",
       "[100 rows x 8 columns]"
      ]
     },
     "execution_count": 46,
     "metadata": {},
     "output_type": "execute_result"
    }
   ],
   "source": [
    "y_true = real_objective(attr1, attr2)\n",
    "data_df = pd.DataFrame(np.concatenate((attr1, attr2, y_true.reshape(-1, 1)), axis=1), columns=[*abalone.data.features.columns.to_list()[1:], 'y_true'])\n",
    "data_df.head(100)"
   ]
  },
  {
   "cell_type": "code",
   "execution_count": 48,
   "id": "7043a52cf978d682",
   "metadata": {
    "ExecuteTime": {
     "end_time": "2023-10-22T10:39:17.444505Z",
     "start_time": "2023-10-22T10:39:17.408147Z"
    },
    "collapsed": false
   },
   "outputs": [
    {
     "data": {
      "text/html": [
       "<div>\n",
       "<style scoped>\n",
       "    .dataframe tbody tr th:only-of-type {\n",
       "        vertical-align: middle;\n",
       "    }\n",
       "\n",
       "    .dataframe tbody tr th {\n",
       "        vertical-align: top;\n",
       "    }\n",
       "\n",
       "    .dataframe thead th {\n",
       "        text-align: right;\n",
       "    }\n",
       "</style>\n",
       "<table border=\"1\" class=\"dataframe\">\n",
       "  <thead>\n",
       "    <tr style=\"text-align: right;\">\n",
       "      <th></th>\n",
       "      <th>Length</th>\n",
       "      <th>Diameter</th>\n",
       "      <th>Height</th>\n",
       "      <th>Whole_weight</th>\n",
       "      <th>Shucked_weight</th>\n",
       "      <th>Viscera_weight</th>\n",
       "      <th>Shell_weight</th>\n",
       "      <th>y_true</th>\n",
       "    </tr>\n",
       "  </thead>\n",
       "  <tbody>\n",
       "    <tr>\n",
       "      <th>count</th>\n",
       "      <td>4177.000000</td>\n",
       "      <td>4177.000000</td>\n",
       "      <td>4177.000000</td>\n",
       "      <td>4177.000000</td>\n",
       "      <td>4177.000000</td>\n",
       "      <td>4177.000000</td>\n",
       "      <td>4177.000000</td>\n",
       "      <td>4177.000000</td>\n",
       "    </tr>\n",
       "    <tr>\n",
       "      <th>mean</th>\n",
       "      <td>0.523992</td>\n",
       "      <td>0.407881</td>\n",
       "      <td>0.139516</td>\n",
       "      <td>0.828742</td>\n",
       "      <td>0.359367</td>\n",
       "      <td>0.180594</td>\n",
       "      <td>0.238831</td>\n",
       "      <td>0.458430</td>\n",
       "    </tr>\n",
       "    <tr>\n",
       "      <th>std</th>\n",
       "      <td>0.120093</td>\n",
       "      <td>0.099240</td>\n",
       "      <td>0.041827</td>\n",
       "      <td>0.490389</td>\n",
       "      <td>0.221963</td>\n",
       "      <td>0.109614</td>\n",
       "      <td>0.139203</td>\n",
       "      <td>4.174899</td>\n",
       "    </tr>\n",
       "    <tr>\n",
       "      <th>min</th>\n",
       "      <td>0.075000</td>\n",
       "      <td>0.055000</td>\n",
       "      <td>0.000000</td>\n",
       "      <td>0.002000</td>\n",
       "      <td>0.001000</td>\n",
       "      <td>0.000500</td>\n",
       "      <td>0.001500</td>\n",
       "      <td>-29.922096</td>\n",
       "    </tr>\n",
       "    <tr>\n",
       "      <th>25%</th>\n",
       "      <td>0.450000</td>\n",
       "      <td>0.350000</td>\n",
       "      <td>0.115000</td>\n",
       "      <td>0.441500</td>\n",
       "      <td>0.186000</td>\n",
       "      <td>0.093500</td>\n",
       "      <td>0.130000</td>\n",
       "      <td>-0.859674</td>\n",
       "    </tr>\n",
       "    <tr>\n",
       "      <th>50%</th>\n",
       "      <td>0.545000</td>\n",
       "      <td>0.425000</td>\n",
       "      <td>0.140000</td>\n",
       "      <td>0.799500</td>\n",
       "      <td>0.336000</td>\n",
       "      <td>0.171000</td>\n",
       "      <td>0.234000</td>\n",
       "      <td>2.517386</td>\n",
       "    </tr>\n",
       "    <tr>\n",
       "      <th>75%</th>\n",
       "      <td>0.615000</td>\n",
       "      <td>0.480000</td>\n",
       "      <td>0.165000</td>\n",
       "      <td>1.153000</td>\n",
       "      <td>0.502000</td>\n",
       "      <td>0.253000</td>\n",
       "      <td>0.329000</td>\n",
       "      <td>3.289335</td>\n",
       "    </tr>\n",
       "    <tr>\n",
       "      <th>max</th>\n",
       "      <td>0.815000</td>\n",
       "      <td>0.650000</td>\n",
       "      <td>1.130000</td>\n",
       "      <td>2.825500</td>\n",
       "      <td>1.488000</td>\n",
       "      <td>0.760000</td>\n",
       "      <td>1.005000</td>\n",
       "      <td>3.927508</td>\n",
       "    </tr>\n",
       "  </tbody>\n",
       "</table>\n",
       "</div>"
      ],
      "text/plain": [
       "            Length     Diameter       Height  Whole_weight  Shucked_weight  \\\n",
       "count  4177.000000  4177.000000  4177.000000   4177.000000     4177.000000   \n",
       "mean      0.523992     0.407881     0.139516      0.828742        0.359367   \n",
       "std       0.120093     0.099240     0.041827      0.490389        0.221963   \n",
       "min       0.075000     0.055000     0.000000      0.002000        0.001000   \n",
       "25%       0.450000     0.350000     0.115000      0.441500        0.186000   \n",
       "50%       0.545000     0.425000     0.140000      0.799500        0.336000   \n",
       "75%       0.615000     0.480000     0.165000      1.153000        0.502000   \n",
       "max       0.815000     0.650000     1.130000      2.825500        1.488000   \n",
       "\n",
       "       Viscera_weight  Shell_weight       y_true  \n",
       "count     4177.000000   4177.000000  4177.000000  \n",
       "mean         0.180594      0.238831     0.458430  \n",
       "std          0.109614      0.139203     4.174899  \n",
       "min          0.000500      0.001500   -29.922096  \n",
       "25%          0.093500      0.130000    -0.859674  \n",
       "50%          0.171000      0.234000     2.517386  \n",
       "75%          0.253000      0.329000     3.289335  \n",
       "max          0.760000      1.005000     3.927508  "
      ]
     },
     "execution_count": 47,
     "metadata": {},
     "output_type": "execute_result"
    }
   ],
   "source": [
    "data_df.describe()"
   ]
  },
  {
   "cell_type": "code",
   "execution_count": 49,
   "id": "e996477b1f7d119",
   "metadata": {
    "ExecuteTime": {
     "end_time": "2023-10-22T10:39:17.447563Z",
     "start_time": "2023-10-22T10:39:17.418306Z"
    },
    "collapsed": false
   },
   "outputs": [],
   "source": [
    "# split the data into train and test\n",
    "from sklearn.model_selection import train_test_split\n",
    "attr1_train, attr1_test, attr2_train, attr2_test, y_true_train, y_true_test = train_test_split(attr1, attr2, y_true, test_size=0.2, random_state=123)\n"
   ]
  },
  {
   "cell_type": "code",
   "execution_count": 50,
   "id": "110c3faafc494991",
   "metadata": {
    "ExecuteTime": {
     "end_time": "2023-10-22T10:39:17.525025Z",
     "start_time": "2023-10-22T10:39:17.425023Z"
    },
    "collapsed": false
   },
   "outputs": [],
   "source": [
    "# Define the model\n",
    "def build_model():\n",
    "    ttl_dimension = attr1_dimension + attr2_dimension\n",
    "    input1 = layers.Input(shape=(attr1_dimension,), name='attr1')\n",
    "    input2 = layers.Input(shape=(attr2_dimension,), name='attr2')\n",
    "    # emb1 = layers.Dense(attr1_dimension, activation='relu')(input1)\n",
    "    # emb1 = layers.Dense(attr1_dimension, activation='relu')(emb1)\n",
    "    # emb1 = layers.Dense(attr1_dimension, activation='relu')(emb1)\n",
    "    # emb1 = layers.BatchNormalization()(emb1)\n",
    "    # emb1 = layers.Dense(attr1_dimension, activation='relu')(emb1)\n",
    "    # emb1 = layers.Dense(attr1_dimension, activation='relu')(emb1)\n",
    "    # emb1 = layers.BatchNormalization()(emb1)\n",
    "    # \n",
    "    # emb2 = layers.Dense(attr2_dimension, activation='relu')(input2)\n",
    "    # emb2 = layers.Dense(attr2_dimension, activation='relu')(emb2)\n",
    "    # emb2 = layers.Dense(attr2_dimension, activation='relu')(emb2)\n",
    "    # emb2 = layers.BatchNormalization()(emb2)\n",
    "    # emb2 = layers.Dense(attr2_dimension, activation='relu')(emb2)\n",
    "    # emb2 = layers.Dense(attr2_dimension, activation='relu')(emb2)\n",
    "    # emb2 = layers.BatchNormalization()(emb2)\n",
    "    \n",
    "    x = layers.Concatenate()([input1, input2])\n",
    "    x = layers.Dense(ttl_dimension, activation='relu')(x)\n",
    "    x = layers.Dense(ttl_dimension, activation='relu')(x)\n",
    "    x = layers.BatchNormalization()(x)\n",
    "    x = layers.Dense(ttl_dimension, activation='relu')(x)\n",
    "    x = layers.Dense(ttl_dimension, activation='relu')(x)\n",
    "    x = layers.BatchNormalization()(x)\n",
    "    x = layers.Dense(ttl_dimension, activation='relu')(x)\n",
    "    x = layers.Dense(ttl_dimension, activation='relu')(x)\n",
    "    x = layers.BatchNormalization()(x)\n",
    "    x = layers.Dense(ttl_dimension, activation='relu')(x)\n",
    "    x = layers.Dense(ttl_dimension, activation='relu')(x)\n",
    "    x = layers.BatchNormalization()(x)\n",
    "    # x = layers.Concatenate()([x, input1, input2])\n",
    "    # x = layers.Dense(ttl_dimension, activation='relu')(x)\n",
    "    # x = layers.Dense(ttl_dimension, activation='relu')(x)\n",
    "    # x = layers.BatchNormalization()(x)\n",
    "    output = layers.Dense(1, activation='linear', name='predicted_y')(x)\n",
    "    model = Model(inputs=[input1, input2], outputs=output)\n",
    "    model.compile(optimizer=Adam(learning_rate=0.005), loss=MeanSquaredError())\n",
    "    return model\n"
   ]
  },
  {
   "cell_type": "code",
   "execution_count": 51,
   "id": "14537e54dbd5fa42",
   "metadata": {
    "ExecuteTime": {
     "end_time": "2023-10-22T10:39:17.675696Z",
     "start_time": "2023-10-22T10:39:17.468164Z"
    },
    "collapsed": false
   },
   "outputs": [
    {
     "name": "stdout",
     "output_type": "stream",
     "text": [
      "Model: \"model_2\"\n",
      "__________________________________________________________________________________________________\n",
      " Layer (type)                   Output Shape         Param #     Connected to                     \n",
      "==================================================================================================\n",
      " attr1 (InputLayer)             [(None, 3)]          0           []                               \n",
      "                                                                                                  \n",
      " attr2 (InputLayer)             [(None, 4)]          0           []                               \n",
      "                                                                                                  \n",
      " concatenate_1 (Concatenate)    (None, 7)            0           ['attr1[0][0]',                  \n",
      "                                                                  'attr2[0][0]']                  \n",
      "                                                                                                  \n",
      " dense_8 (Dense)                (None, 7)            56          ['concatenate_1[0][0]']          \n",
      "                                                                                                  \n",
      " dense_9 (Dense)                (None, 7)            56          ['dense_8[0][0]']                \n",
      "                                                                                                  \n",
      " batch_normalization_4 (BatchNo  (None, 7)           28          ['dense_9[0][0]']                \n",
      " rmalization)                                                                                     \n",
      "                                                                                                  \n",
      " dense_10 (Dense)               (None, 7)            56          ['batch_normalization_4[0][0]']  \n",
      "                                                                                                  \n",
      " dense_11 (Dense)               (None, 7)            56          ['dense_10[0][0]']               \n",
      "                                                                                                  \n",
      " batch_normalization_5 (BatchNo  (None, 7)           28          ['dense_11[0][0]']               \n",
      " rmalization)                                                                                     \n",
      "                                                                                                  \n",
      " dense_12 (Dense)               (None, 7)            56          ['batch_normalization_5[0][0]']  \n",
      "                                                                                                  \n",
      " dense_13 (Dense)               (None, 7)            56          ['dense_12[0][0]']               \n",
      "                                                                                                  \n",
      " batch_normalization_6 (BatchNo  (None, 7)           28          ['dense_13[0][0]']               \n",
      " rmalization)                                                                                     \n",
      "                                                                                                  \n",
      " dense_14 (Dense)               (None, 7)            56          ['batch_normalization_6[0][0]']  \n",
      "                                                                                                  \n",
      " dense_15 (Dense)               (None, 7)            56          ['dense_14[0][0]']               \n",
      "                                                                                                  \n",
      " batch_normalization_7 (BatchNo  (None, 7)           28          ['dense_15[0][0]']               \n",
      " rmalization)                                                                                     \n",
      "                                                                                                  \n",
      " predicted_y (Dense)            (None, 1)            8           ['batch_normalization_7[0][0]']  \n",
      "                                                                                                  \n",
      "==================================================================================================\n",
      "Total params: 568\n",
      "Trainable params: 512\n",
      "Non-trainable params: 56\n",
      "__________________________________________________________________________________________________\n"
     ]
    }
   ],
   "source": [
    "model = build_model()\n",
    "model.summary()"
   ]
  },
  {
   "cell_type": "code",
   "execution_count": 52,
   "id": "c67405dcaaa8bf3",
   "metadata": {
    "ExecuteTime": {
     "end_time": "2023-10-22T10:39:17.764656Z",
     "start_time": "2023-10-22T10:39:17.676131Z"
    },
    "collapsed": false
   },
   "outputs": [
    {
     "data": {
      "image/png": "[encoded data removed]",
      "text/plain": [
       "<IPython.core.display.Image object>"
      ]
     },
     "execution_count": 51,
     "metadata": {},
     "output_type": "execute_result"
    }
   ],
   "source": [
    "plot_model(model, to_file='model.png', show_shapes=True, show_layer_names=True)"
   ]
  },
  {
   "cell_type": "code",
   "execution_count": 53,
   "id": "f69a22f604298dfd",
   "metadata": {
    "ExecuteTime": {
     "end_time": "2023-10-22T10:39:27.192619Z",
     "start_time": "2023-10-22T10:39:17.764519Z"
    },
    "collapsed": false
   },
   "outputs": [
    {
     "name": "stdout",
     "output_type": "stream",
     "text": [
      "Epoch 1/1000\n",
      "3/3 [==============================] - 2s 75ms/step - loss: 9.6736 - val_loss: 16.9385\n",
      "Epoch 2/1000\n",
      "3/3 [==============================] - 0s 11ms/step - loss: 5.6836 - val_loss: 16.9188\n",
      "Epoch 3/1000\n",
      "3/3 [==============================] - 0s 16ms/step - loss: 3.8906 - val_loss: 16.8719\n",
      "Epoch 4/1000\n",
      "3/3 [==============================] - 0s 18ms/step - loss: 3.0670 - val_loss: 16.8066\n",
      "Epoch 5/1000\n",
      "3/3 [==============================] - 0s 15ms/step - loss: 2.5134 - val_loss: 16.7316\n",
      "Epoch 6/1000\n",
      "3/3 [==============================] - 0s 9ms/step - loss: 2.0268 - val_loss: 16.6462\n",
      "Epoch 7/1000\n",
      "3/3 [==============================] - 0s 10ms/step - loss: 1.6975 - val_loss: 16.5483\n",
      "Epoch 8/1000\n",
      "3/3 [==============================] - 0s 16ms/step - loss: 1.3482 - val_loss: 16.4487\n",
      "Epoch 9/1000\n",
      "3/3 [==============================] - 0s 13ms/step - loss: 1.0941 - val_loss: 16.2421\n",
      "Epoch 10/1000\n",
      "3/3 [==============================] - 0s 14ms/step - loss: 0.8390 - val_loss: 16.0074\n",
      "Epoch 11/1000\n",
      "3/3 [==============================] - 0s 10ms/step - loss: 0.7240 - val_loss: 15.7627\n",
      "Epoch 12/1000\n",
      "3/3 [==============================] - 0s 9ms/step - loss: 0.4761 - val_loss: 15.5580\n",
      "Epoch 13/1000\n",
      "3/3 [==============================] - 0s 13ms/step - loss: 0.4281 - val_loss: 15.4675\n",
      "Epoch 14/1000\n",
      "3/3 [==============================] - 0s 13ms/step - loss: 0.3560 - val_loss: 15.3718\n",
      "Epoch 15/1000\n",
      "3/3 [==============================] - 0s 13ms/step - loss: 0.3369 - val_loss: 15.3214\n",
      "Epoch 16/1000\n",
      "3/3 [==============================] - 0s 13ms/step - loss: 0.2356 - val_loss: 15.2785\n",
      "Epoch 17/1000\n",
      "3/3 [==============================] - 0s 10ms/step - loss: 0.2509 - val_loss: 15.2861\n",
      "Epoch 18/1000\n",
      "3/3 [==============================] - 0s 11ms/step - loss: 0.1768 - val_loss: 15.2865\n",
      "Epoch 19/1000\n",
      "3/3 [==============================] - 0s 13ms/step - loss: 0.2183 - val_loss: 15.2760\n",
      "Epoch 20/1000\n",
      "3/3 [==============================] - 0s 13ms/step - loss: 0.1970 - val_loss: 15.2673\n",
      "Epoch 21/1000\n",
      "3/3 [==============================] - 0s 10ms/step - loss: 0.3411 - val_loss: 15.2460\n",
      "Epoch 22/1000\n",
      "3/3 [==============================] - 0s 13ms/step - loss: 0.1921 - val_loss: 15.1733\n",
      "Epoch 23/1000\n",
      "3/3 [==============================] - 0s 10ms/step - loss: 0.4078 - val_loss: 15.0041\n",
      "Epoch 24/1000\n",
      "3/3 [==============================] - 0s 10ms/step - loss: 0.3269 - val_loss: 14.9764\n",
      "Epoch 25/1000\n",
      "3/3 [==============================] - 0s 10ms/step - loss: 0.1841 - val_loss: 14.8921\n",
      "Epoch 26/1000\n",
      "3/3 [==============================] - 0s 10ms/step - loss: 0.2683 - val_loss: 14.7892\n",
      "Epoch 27/1000\n",
      "3/3 [==============================] - 0s 13ms/step - loss: 0.1659 - val_loss: 14.6861\n",
      "Epoch 28/1000\n",
      "3/3 [==============================] - 0s 11ms/step - loss: 0.1141 - val_loss: 14.6640\n",
      "Epoch 29/1000\n",
      "3/3 [==============================] - 0s 14ms/step - loss: 0.1351 - val_loss: 14.7171\n",
      "Epoch 30/1000\n",
      "3/3 [==============================] - 0s 16ms/step - loss: 0.2508 - val_loss: 14.7503\n",
      "Epoch 31/1000\n",
      "3/3 [==============================] - 0s 13ms/step - loss: 0.2500 - val_loss: 14.8746\n",
      "Epoch 32/1000\n",
      "3/3 [==============================] - 0s 17ms/step - loss: 0.1551 - val_loss: 14.8722\n",
      "Epoch 33/1000\n",
      "3/3 [==============================] - 0s 17ms/step - loss: 0.2002 - val_loss: 14.8291\n",
      "Epoch 34/1000\n",
      "3/3 [==============================] - 0s 15ms/step - loss: 0.1860 - val_loss: 14.7542\n",
      "Epoch 35/1000\n",
      "3/3 [==============================] - 0s 17ms/step - loss: 0.1216 - val_loss: 14.6718\n",
      "Epoch 36/1000\n",
      "3/3 [==============================] - 0s 15ms/step - loss: 0.1175 - val_loss: 14.6782\n",
      "Epoch 37/1000\n",
      "3/3 [==============================] - 0s 13ms/step - loss: 0.1366 - val_loss: 14.6985\n",
      "Epoch 38/1000\n",
      "3/3 [==============================] - 0s 13ms/step - loss: 0.1107 - val_loss: 14.6702\n",
      "Epoch 39/1000\n",
      "3/3 [==============================] - 0s 9ms/step - loss: 0.1469 - val_loss: 14.5601\n",
      "Epoch 40/1000\n",
      "3/3 [==============================] - 0s 10ms/step - loss: 0.1102 - val_loss: 14.4094\n",
      "Epoch 41/1000\n",
      "3/3 [==============================] - 0s 10ms/step - loss: 0.1180 - val_loss: 14.2676\n",
      "Epoch 42/1000\n",
      "3/3 [==============================] - 0s 9ms/step - loss: 0.2931 - val_loss: 14.0719\n",
      "Epoch 43/1000\n",
      "3/3 [==============================] - 0s 12ms/step - loss: 0.1412 - val_loss: 13.9976\n",
      "Epoch 44/1000\n",
      "3/3 [==============================] - 0s 9ms/step - loss: 0.2086 - val_loss: 13.9686\n",
      "Epoch 45/1000\n",
      "3/3 [==============================] - 0s 9ms/step - loss: 0.1899 - val_loss: 13.9427\n",
      "Epoch 46/1000\n",
      "3/3 [==============================] - 0s 9ms/step - loss: 0.1680 - val_loss: 13.8876\n",
      "Epoch 47/1000\n",
      "3/3 [==============================] - 0s 9ms/step - loss: 0.2146 - val_loss: 13.7290\n",
      "Epoch 48/1000\n",
      "3/3 [==============================] - 0s 9ms/step - loss: 0.2382 - val_loss: 13.5886\n",
      "Epoch 49/1000\n",
      "3/3 [==============================] - 0s 9ms/step - loss: 0.0986 - val_loss: 13.3555\n",
      "Epoch 50/1000\n",
      "3/3 [==============================] - 0s 16ms/step - loss: 0.1047 - val_loss: 13.1212\n",
      "Epoch 51/1000\n",
      "3/3 [==============================] - 0s 16ms/step - loss: 0.1678 - val_loss: 12.9650\n",
      "Epoch 52/1000\n",
      "3/3 [==============================] - 0s 11ms/step - loss: 0.1884 - val_loss: 12.9041\n",
      "Epoch 53/1000\n",
      "3/3 [==============================] - 0s 10ms/step - loss: 0.1192 - val_loss: 12.7946\n",
      "Epoch 54/1000\n",
      "3/3 [==============================] - 0s 13ms/step - loss: 0.1959 - val_loss: 12.6468\n",
      "Epoch 55/1000\n",
      "3/3 [==============================] - 0s 13ms/step - loss: 0.1804 - val_loss: 12.4438\n",
      "Epoch 56/1000\n",
      "3/3 [==============================] - 0s 10ms/step - loss: 0.1459 - val_loss: 12.1540\n",
      "Epoch 57/1000\n",
      "3/3 [==============================] - 0s 9ms/step - loss: 0.2061 - val_loss: 11.9637\n",
      "Epoch 58/1000\n",
      "3/3 [==============================] - 0s 9ms/step - loss: 0.1129 - val_loss: 11.7691\n",
      "Epoch 59/1000\n",
      "3/3 [==============================] - 0s 10ms/step - loss: 0.1189 - val_loss: 11.5398\n",
      "Epoch 60/1000\n",
      "3/3 [==============================] - 0s 14ms/step - loss: 0.1480 - val_loss: 11.3632\n",
      "Epoch 61/1000\n",
      "3/3 [==============================] - 0s 13ms/step - loss: 0.1547 - val_loss: 11.1024\n",
      "Epoch 62/1000\n",
      "3/3 [==============================] - 0s 14ms/step - loss: 0.2113 - val_loss: 10.9671\n",
      "Epoch 63/1000\n",
      "3/3 [==============================] - 0s 10ms/step - loss: 0.1120 - val_loss: 10.8663\n",
      "Epoch 64/1000\n",
      "3/3 [==============================] - 0s 13ms/step - loss: 0.1281 - val_loss: 10.6641\n",
      "Epoch 65/1000\n",
      "3/3 [==============================] - 0s 10ms/step - loss: 0.0724 - val_loss: 10.4213\n",
      "Epoch 66/1000\n",
      "3/3 [==============================] - 0s 10ms/step - loss: 0.1336 - val_loss: 10.2048\n",
      "Epoch 67/1000\n",
      "3/3 [==============================] - 0s 13ms/step - loss: 0.1061 - val_loss: 9.9689\n",
      "Epoch 68/1000\n",
      "3/3 [==============================] - 0s 13ms/step - loss: 0.1769 - val_loss: 9.6920\n",
      "Epoch 69/1000\n",
      "3/3 [==============================] - 0s 11ms/step - loss: 0.1792 - val_loss: 9.5306\n",
      "Epoch 70/1000\n",
      "3/3 [==============================] - 0s 10ms/step - loss: 0.1758 - val_loss: 9.4007\n",
      "Epoch 71/1000\n",
      "3/3 [==============================] - 0s 13ms/step - loss: 0.1214 - val_loss: 9.2618\n",
      "Epoch 72/1000\n",
      "3/3 [==============================] - 0s 9ms/step - loss: 0.1577 - val_loss: 9.0169\n",
      "Epoch 73/1000\n",
      "3/3 [==============================] - 0s 9ms/step - loss: 0.1137 - val_loss: 8.8351\n",
      "Epoch 74/1000\n",
      "3/3 [==============================] - 0s 10ms/step - loss: 0.0640 - val_loss: 8.7545\n",
      "Epoch 75/1000\n",
      "3/3 [==============================] - 0s 10ms/step - loss: 0.1596 - val_loss: 8.6423\n",
      "Epoch 76/1000\n",
      "3/3 [==============================] - 0s 14ms/step - loss: 0.1109 - val_loss: 8.4885\n",
      "Epoch 77/1000\n",
      "3/3 [==============================] - 0s 13ms/step - loss: 0.0979 - val_loss: 8.2285\n",
      "Epoch 78/1000\n",
      "3/3 [==============================] - 0s 9ms/step - loss: 0.1429 - val_loss: 7.9785\n",
      "Epoch 79/1000\n",
      "3/3 [==============================] - 0s 13ms/step - loss: 0.0740 - val_loss: 7.8356\n",
      "Epoch 80/1000\n",
      "3/3 [==============================] - 0s 13ms/step - loss: 0.0951 - val_loss: 7.7775\n",
      "Epoch 81/1000\n",
      "3/3 [==============================] - 0s 10ms/step - loss: 0.1446 - val_loss: 7.6864\n",
      "Epoch 82/1000\n",
      "3/3 [==============================] - 0s 10ms/step - loss: 0.1225 - val_loss: 7.4999\n",
      "Epoch 83/1000\n",
      "3/3 [==============================] - 0s 14ms/step - loss: 0.1609 - val_loss: 7.3068\n",
      "Epoch 84/1000\n",
      "3/3 [==============================] - 0s 13ms/step - loss: 0.0932 - val_loss: 7.0454\n",
      "Epoch 85/1000\n",
      "3/3 [==============================] - 0s 14ms/step - loss: 0.1368 - val_loss: 6.8300\n",
      "Epoch 86/1000\n",
      "3/3 [==============================] - 0s 14ms/step - loss: 0.1403 - val_loss: 6.7670\n",
      "Epoch 87/1000\n",
      "3/3 [==============================] - 0s 13ms/step - loss: 0.1340 - val_loss: 6.6263\n",
      "Epoch 88/1000\n",
      "3/3 [==============================] - 0s 13ms/step - loss: 0.0863 - val_loss: 6.4950\n",
      "Epoch 89/1000\n",
      "3/3 [==============================] - 0s 17ms/step - loss: 0.1219 - val_loss: 6.3634\n",
      "Epoch 90/1000\n",
      "3/3 [==============================] - 0s 16ms/step - loss: 0.0962 - val_loss: 6.3142\n",
      "Epoch 91/1000\n",
      "3/3 [==============================] - 0s 10ms/step - loss: 0.1071 - val_loss: 6.1400\n",
      "Epoch 92/1000\n",
      "3/3 [==============================] - 0s 17ms/step - loss: 0.1238 - val_loss: 5.9985\n",
      "Epoch 93/1000\n",
      "3/3 [==============================] - 0s 14ms/step - loss: 0.1078 - val_loss: 5.8040\n",
      "Epoch 94/1000\n",
      "3/3 [==============================] - 0s 17ms/step - loss: 0.1302 - val_loss: 5.6469\n",
      "Epoch 95/1000\n",
      "3/3 [==============================] - 0s 17ms/step - loss: 0.0700 - val_loss: 5.5422\n",
      "Epoch 96/1000\n",
      "3/3 [==============================] - 0s 10ms/step - loss: 0.1869 - val_loss: 5.4442\n",
      "Epoch 97/1000\n",
      "3/3 [==============================] - 0s 13ms/step - loss: 0.1172 - val_loss: 5.3642\n",
      "Epoch 98/1000\n",
      "3/3 [==============================] - 0s 13ms/step - loss: 0.0770 - val_loss: 5.2422\n",
      "Epoch 99/1000\n",
      "3/3 [==============================] - 0s 10ms/step - loss: 0.0881 - val_loss: 5.1324\n",
      "Epoch 100/1000\n",
      "3/3 [==============================] - 0s 10ms/step - loss: 0.0818 - val_loss: 5.0176\n",
      "Epoch 101/1000\n",
      "3/3 [==============================] - 0s 13ms/step - loss: 0.0603 - val_loss: 4.8980\n",
      "Epoch 102/1000\n",
      "3/3 [==============================] - 0s 10ms/step - loss: 0.1093 - val_loss: 4.7355\n",
      "Epoch 103/1000\n",
      "3/3 [==============================] - 0s 13ms/step - loss: 0.0770 - val_loss: 4.6156\n",
      "Epoch 104/1000\n",
      "3/3 [==============================] - 0s 12ms/step - loss: 0.1023 - val_loss: 4.5099\n",
      "Epoch 105/1000\n",
      "3/3 [==============================] - 0s 12ms/step - loss: 0.1143 - val_loss: 4.4201\n",
      "Epoch 106/1000\n",
      "3/3 [==============================] - 0s 13ms/step - loss: 0.1833 - val_loss: 4.3449\n",
      "Epoch 107/1000\n",
      "3/3 [==============================] - 0s 16ms/step - loss: 0.1350 - val_loss: 4.3237\n",
      "Epoch 108/1000\n",
      "3/3 [==============================] - 0s 13ms/step - loss: 0.1405 - val_loss: 4.2099\n",
      "Epoch 109/1000\n",
      "3/3 [==============================] - 0s 10ms/step - loss: 0.1760 - val_loss: 4.2938\n",
      "Epoch 110/1000\n",
      "3/3 [==============================] - 0s 10ms/step - loss: 0.0920 - val_loss: 4.2272\n",
      "Epoch 111/1000\n",
      "3/3 [==============================] - 0s 10ms/step - loss: 0.1367 - val_loss: 4.0444\n",
      "Epoch 112/1000\n",
      "3/3 [==============================] - 0s 10ms/step - loss: 0.1302 - val_loss: 3.9230\n",
      "Epoch 113/1000\n",
      "3/3 [==============================] - 0s 13ms/step - loss: 0.1046 - val_loss: 3.8043\n",
      "Epoch 114/1000\n",
      "3/3 [==============================] - 0s 10ms/step - loss: 0.1738 - val_loss: 3.6984\n",
      "Epoch 115/1000\n",
      "3/3 [==============================] - 0s 13ms/step - loss: 0.0931 - val_loss: 3.7422\n",
      "Epoch 116/1000\n",
      "3/3 [==============================] - 0s 12ms/step - loss: 0.1081 - val_loss: 3.6091\n",
      "Epoch 117/1000\n",
      "3/3 [==============================] - 0s 9ms/step - loss: 0.1789 - val_loss: 3.5092\n",
      "Epoch 118/1000\n",
      "3/3 [==============================] - 0s 13ms/step - loss: 0.1031 - val_loss: 3.5530\n",
      "Epoch 119/1000\n",
      "3/3 [==============================] - 0s 16ms/step - loss: 0.1345 - val_loss: 3.1487\n",
      "Epoch 120/1000\n",
      "3/3 [==============================] - 0s 10ms/step - loss: 0.1107 - val_loss: 3.0308\n",
      "Epoch 121/1000\n",
      "3/3 [==============================] - 0s 10ms/step - loss: 0.0915 - val_loss: 3.1261\n",
      "Epoch 122/1000\n",
      "3/3 [==============================] - 0s 14ms/step - loss: 0.2276 - val_loss: 2.9518\n",
      "Epoch 123/1000\n",
      "3/3 [==============================] - 0s 14ms/step - loss: 0.2362 - val_loss: 2.4452\n",
      "Epoch 124/1000\n",
      "3/3 [==============================] - 0s 14ms/step - loss: 0.1877 - val_loss: 2.8409\n",
      "Epoch 125/1000\n",
      "3/3 [==============================] - 0s 15ms/step - loss: 0.1621 - val_loss: 2.8993\n",
      "Epoch 126/1000\n",
      "3/3 [==============================] - 0s 14ms/step - loss: 0.1118 - val_loss: 2.7033\n",
      "Epoch 127/1000\n",
      "3/3 [==============================] - 0s 14ms/step - loss: 0.1379 - val_loss: 2.7563\n",
      "Epoch 128/1000\n",
      "3/3 [==============================] - 0s 14ms/step - loss: 0.0946 - val_loss: 2.7486\n",
      "Epoch 129/1000\n",
      "3/3 [==============================] - 0s 13ms/step - loss: 0.1394 - val_loss: 2.5371\n",
      "Epoch 130/1000\n",
      "3/3 [==============================] - 0s 13ms/step - loss: 0.1802 - val_loss: 2.5626\n",
      "Epoch 131/1000\n",
      "3/3 [==============================] - 0s 13ms/step - loss: 0.0607 - val_loss: 2.4113\n",
      "Epoch 132/1000\n",
      "3/3 [==============================] - 0s 13ms/step - loss: 0.1418 - val_loss: 2.2780\n",
      "Epoch 133/1000\n",
      "3/3 [==============================] - 0s 17ms/step - loss: 0.0958 - val_loss: 2.2967\n",
      "Epoch 134/1000\n",
      "3/3 [==============================] - 0s 14ms/step - loss: 0.0743 - val_loss: 2.1524\n",
      "Epoch 135/1000\n",
      "3/3 [==============================] - 0s 10ms/step - loss: 0.0717 - val_loss: 2.2418\n",
      "Epoch 136/1000\n",
      "3/3 [==============================] - 0s 14ms/step - loss: 0.1213 - val_loss: 2.2158\n",
      "Epoch 137/1000\n",
      "3/3 [==============================] - 0s 10ms/step - loss: 0.0525 - val_loss: 1.9526\n",
      "Epoch 138/1000\n",
      "3/3 [==============================] - 0s 10ms/step - loss: 0.0855 - val_loss: 1.9091\n",
      "Epoch 139/1000\n",
      "3/3 [==============================] - 0s 9ms/step - loss: 0.1063 - val_loss: 2.0051\n",
      "Epoch 140/1000\n",
      "3/3 [==============================] - 0s 12ms/step - loss: 0.1077 - val_loss: 1.7116\n",
      "Epoch 141/1000\n",
      "3/3 [==============================] - 0s 10ms/step - loss: 0.1042 - val_loss: 1.7847\n",
      "Epoch 142/1000\n",
      "3/3 [==============================] - 0s 14ms/step - loss: 0.1037 - val_loss: 1.8018\n",
      "Epoch 143/1000\n",
      "3/3 [==============================] - 0s 13ms/step - loss: 0.0728 - val_loss: 1.5856\n",
      "Epoch 144/1000\n",
      "3/3 [==============================] - 0s 14ms/step - loss: 0.1433 - val_loss: 1.6561\n",
      "Epoch 145/1000\n",
      "3/3 [==============================] - 0s 13ms/step - loss: 0.0934 - val_loss: 1.7417\n",
      "Epoch 146/1000\n",
      "3/3 [==============================] - 0s 13ms/step - loss: 0.1134 - val_loss: 1.5310\n",
      "Epoch 147/1000\n",
      "3/3 [==============================] - 0s 13ms/step - loss: 0.0920 - val_loss: 1.4355\n",
      "Epoch 148/1000\n",
      "3/3 [==============================] - 0s 14ms/step - loss: 0.0705 - val_loss: 1.6252\n",
      "Epoch 149/1000\n",
      "3/3 [==============================] - 0s 13ms/step - loss: 0.1549 - val_loss: 1.4617\n",
      "Epoch 150/1000\n",
      "3/3 [==============================] - 0s 18ms/step - loss: 0.0931 - val_loss: 1.2805\n",
      "Epoch 151/1000\n",
      "3/3 [==============================] - 0s 14ms/step - loss: 0.1394 - val_loss: 1.4983\n",
      "Epoch 152/1000\n",
      "3/3 [==============================] - 0s 13ms/step - loss: 0.1976 - val_loss: 1.5914\n",
      "Epoch 153/1000\n",
      "3/3 [==============================] - 0s 13ms/step - loss: 0.1501 - val_loss: 1.3865\n",
      "Epoch 154/1000\n",
      "3/3 [==============================] - 0s 14ms/step - loss: 0.1349 - val_loss: 1.4827\n",
      "Epoch 155/1000\n",
      "3/3 [==============================] - 0s 14ms/step - loss: 0.1075 - val_loss: 1.5421\n",
      "Epoch 156/1000\n",
      "3/3 [==============================] - 0s 14ms/step - loss: 0.1796 - val_loss: 1.4553\n",
      "Epoch 157/1000\n",
      "3/3 [==============================] - 0s 14ms/step - loss: 0.0866 - val_loss: 1.5113\n",
      "Epoch 158/1000\n",
      "3/3 [==============================] - 0s 13ms/step - loss: 0.1124 - val_loss: 1.4390\n",
      "Epoch 159/1000\n",
      "3/3 [==============================] - 0s 13ms/step - loss: 0.0779 - val_loss: 1.3438\n",
      "Epoch 160/1000\n",
      "3/3 [==============================] - 0s 10ms/step - loss: 0.0986 - val_loss: 1.3420\n",
      "Epoch 161/1000\n",
      "3/3 [==============================] - 0s 13ms/step - loss: 0.0564 - val_loss: 1.2660\n",
      "Epoch 162/1000\n",
      "3/3 [==============================] - 0s 13ms/step - loss: 0.0832 - val_loss: 1.2197\n",
      "Epoch 163/1000\n",
      "3/3 [==============================] - 0s 9ms/step - loss: 0.1461 - val_loss: 1.2132\n",
      "Epoch 164/1000\n",
      "3/3 [==============================] - 0s 9ms/step - loss: 0.1336 - val_loss: 1.2818\n",
      "Epoch 165/1000\n",
      "3/3 [==============================] - 0s 9ms/step - loss: 0.2471 - val_loss: 1.1984\n",
      "Epoch 166/1000\n",
      "3/3 [==============================] - 0s 9ms/step - loss: 0.0558 - val_loss: 1.3109\n",
      "Epoch 167/1000\n",
      "3/3 [==============================] - 0s 9ms/step - loss: 0.0838 - val_loss: 1.2689\n",
      "Epoch 168/1000\n",
      "3/3 [==============================] - 0s 13ms/step - loss: 0.0557 - val_loss: 1.2321\n",
      "Epoch 169/1000\n",
      "3/3 [==============================] - 0s 9ms/step - loss: 0.1017 - val_loss: 1.2231\n",
      "Epoch 170/1000\n",
      "3/3 [==============================] - 0s 9ms/step - loss: 0.1537 - val_loss: 1.2142\n",
      "Epoch 171/1000\n",
      "3/3 [==============================] - 0s 9ms/step - loss: 0.0518 - val_loss: 1.1435\n",
      "Epoch 172/1000\n",
      "3/3 [==============================] - 0s 9ms/step - loss: 0.1431 - val_loss: 1.1230\n",
      "Epoch 173/1000\n",
      "3/3 [==============================] - 0s 10ms/step - loss: 0.0805 - val_loss: 1.0847\n",
      "Epoch 174/1000\n",
      "3/3 [==============================] - 0s 10ms/step - loss: 0.1119 - val_loss: 1.0406\n",
      "Epoch 175/1000\n",
      "3/3 [==============================] - 0s 13ms/step - loss: 0.1091 - val_loss: 0.9821\n",
      "Epoch 176/1000\n",
      "3/3 [==============================] - 0s 13ms/step - loss: 0.0980 - val_loss: 0.9861\n",
      "Epoch 177/1000\n",
      "3/3 [==============================] - 0s 18ms/step - loss: 0.2378 - val_loss: 0.9281\n",
      "Epoch 178/1000\n",
      "3/3 [==============================] - 0s 9ms/step - loss: 0.1217 - val_loss: 0.9311\n",
      "Epoch 179/1000\n",
      "3/3 [==============================] - 0s 13ms/step - loss: 0.1419 - val_loss: 0.8611\n",
      "Epoch 180/1000\n",
      "3/3 [==============================] - 0s 14ms/step - loss: 0.0747 - val_loss: 0.7707\n",
      "Epoch 181/1000\n",
      "3/3 [==============================] - 0s 13ms/step - loss: 0.1028 - val_loss: 0.8345\n",
      "Epoch 182/1000\n",
      "3/3 [==============================] - 0s 10ms/step - loss: 0.0926 - val_loss: 0.9187\n",
      "Epoch 183/1000\n",
      "3/3 [==============================] - 0s 13ms/step - loss: 0.1258 - val_loss: 0.8694\n",
      "Epoch 184/1000\n",
      "3/3 [==============================] - 0s 10ms/step - loss: 0.1991 - val_loss: 0.9005\n",
      "Epoch 185/1000\n",
      "3/3 [==============================] - 0s 13ms/step - loss: 0.0893 - val_loss: 0.9961\n",
      "Epoch 186/1000\n",
      "3/3 [==============================] - 0s 10ms/step - loss: 0.1604 - val_loss: 0.9792\n",
      "Epoch 187/1000\n",
      "3/3 [==============================] - 0s 10ms/step - loss: 0.1306 - val_loss: 1.0317\n",
      "Epoch 188/1000\n",
      "3/3 [==============================] - 0s 10ms/step - loss: 0.0664 - val_loss: 1.1499\n",
      "Epoch 189/1000\n",
      "3/3 [==============================] - 0s 10ms/step - loss: 0.0930 - val_loss: 1.0984\n",
      "Epoch 190/1000\n",
      "3/3 [==============================] - 0s 10ms/step - loss: 0.0687 - val_loss: 0.9469\n",
      "Epoch 191/1000\n",
      "3/3 [==============================] - 0s 13ms/step - loss: 0.1480 - val_loss: 0.8410\n",
      "Epoch 192/1000\n",
      "3/3 [==============================] - 0s 11ms/step - loss: 0.1423 - val_loss: 0.7914\n",
      "Epoch 193/1000\n",
      "3/3 [==============================] - 0s 10ms/step - loss: 0.0997 - val_loss: 0.7256\n",
      "Epoch 194/1000\n",
      "3/3 [==============================] - 0s 9ms/step - loss: 0.1129 - val_loss: 0.6691\n",
      "Epoch 195/1000\n",
      "3/3 [==============================] - 0s 10ms/step - loss: 0.1423 - val_loss: 0.7221\n",
      "Epoch 196/1000\n",
      "3/3 [==============================] - 0s 10ms/step - loss: 0.1400 - val_loss: 0.8497\n",
      "Epoch 197/1000\n",
      "3/3 [==============================] - 0s 9ms/step - loss: 0.0754 - val_loss: 0.8362\n",
      "Epoch 198/1000\n",
      "3/3 [==============================] - 0s 13ms/step - loss: 0.1250 - val_loss: 0.8924\n",
      "Epoch 199/1000\n",
      "3/3 [==============================] - 0s 15ms/step - loss: 0.1927 - val_loss: 0.9370\n",
      "Epoch 200/1000\n",
      "3/3 [==============================] - 0s 10ms/step - loss: 0.1088 - val_loss: 0.7949\n",
      "Epoch 201/1000\n",
      "3/3 [==============================] - 0s 13ms/step - loss: 0.1135 - val_loss: 0.6772\n",
      "Epoch 202/1000\n",
      "3/3 [==============================] - 0s 13ms/step - loss: 0.0814 - val_loss: 0.5955\n",
      "Epoch 203/1000\n",
      "3/3 [==============================] - 0s 9ms/step - loss: 0.1366 - val_loss: 0.5473\n",
      "Epoch 204/1000\n",
      "3/3 [==============================] - 0s 11ms/step - loss: 0.1135 - val_loss: 0.4862\n",
      "Epoch 205/1000\n",
      "3/3 [==============================] - 0s 10ms/step - loss: 0.0939 - val_loss: 0.4749\n",
      "Epoch 206/1000\n",
      "3/3 [==============================] - 0s 10ms/step - loss: 0.1096 - val_loss: 0.4874\n",
      "Epoch 207/1000\n",
      "3/3 [==============================] - 0s 9ms/step - loss: 0.0991 - val_loss: 0.4766\n",
      "Epoch 208/1000\n",
      "3/3 [==============================] - 0s 9ms/step - loss: 0.0434 - val_loss: 0.4629\n",
      "Epoch 209/1000\n",
      "3/3 [==============================] - 0s 12ms/step - loss: 0.1088 - val_loss: 0.4392\n",
      "Epoch 210/1000\n",
      "3/3 [==============================] - 0s 17ms/step - loss: 0.1629 - val_loss: 0.4833\n",
      "Epoch 211/1000\n",
      "3/3 [==============================] - 0s 12ms/step - loss: 0.0883 - val_loss: 0.5143\n",
      "Epoch 212/1000\n",
      "3/3 [==============================] - 0s 13ms/step - loss: 0.0600 - val_loss: 0.5299\n",
      "Epoch 213/1000\n",
      "3/3 [==============================] - 0s 13ms/step - loss: 0.0867 - val_loss: 0.5211\n",
      "Epoch 214/1000\n",
      "3/3 [==============================] - 0s 10ms/step - loss: 0.0492 - val_loss: 0.4700\n",
      "Epoch 215/1000\n",
      "3/3 [==============================] - 0s 12ms/step - loss: 0.1217 - val_loss: 0.4044\n",
      "Epoch 216/1000\n",
      "3/3 [==============================] - 0s 13ms/step - loss: 0.0933 - val_loss: 0.3987\n",
      "Epoch 217/1000\n",
      "3/3 [==============================] - 0s 9ms/step - loss: 0.0408 - val_loss: 0.5221\n",
      "Epoch 218/1000\n",
      "3/3 [==============================] - 0s 9ms/step - loss: 0.0856 - val_loss: 0.4589\n",
      "Epoch 219/1000\n",
      "3/3 [==============================] - 0s 12ms/step - loss: 0.0995 - val_loss: 0.4134\n",
      "Epoch 220/1000\n",
      "3/3 [==============================] - 0s 9ms/step - loss: 0.0927 - val_loss: 0.4193\n",
      "Epoch 221/1000\n",
      "3/3 [==============================] - 0s 12ms/step - loss: 0.1222 - val_loss: 0.4200\n",
      "Epoch 222/1000\n",
      "3/3 [==============================] - 0s 12ms/step - loss: 0.0577 - val_loss: 0.4069\n",
      "Epoch 223/1000\n",
      "3/3 [==============================] - 0s 9ms/step - loss: 0.1678 - val_loss: 0.3508\n",
      "Epoch 224/1000\n",
      "3/3 [==============================] - 0s 10ms/step - loss: 0.1032 - val_loss: 0.4223\n",
      "Epoch 225/1000\n",
      "3/3 [==============================] - 0s 9ms/step - loss: 0.1141 - val_loss: 0.3818\n",
      "Epoch 226/1000\n",
      "3/3 [==============================] - 0s 9ms/step - loss: 0.1014 - val_loss: 0.3543\n",
      "Epoch 227/1000\n",
      "3/3 [==============================] - 0s 10ms/step - loss: 0.0858 - val_loss: 0.3198\n",
      "Epoch 228/1000\n",
      "3/3 [==============================] - 0s 10ms/step - loss: 0.1100 - val_loss: 0.3332\n",
      "Epoch 229/1000\n",
      "3/3 [==============================] - 0s 13ms/step - loss: 0.1140 - val_loss: 0.2864\n",
      "Epoch 230/1000\n",
      "3/3 [==============================] - 0s 12ms/step - loss: 0.0939 - val_loss: 0.2620\n",
      "Epoch 231/1000\n",
      "3/3 [==============================] - 0s 10ms/step - loss: 0.1556 - val_loss: 0.3301\n",
      "Epoch 232/1000\n",
      "3/3 [==============================] - 0s 13ms/step - loss: 0.1306 - val_loss: 0.3765\n",
      "Epoch 233/1000\n",
      "3/3 [==============================] - 0s 13ms/step - loss: 0.0418 - val_loss: 0.3152\n",
      "Epoch 234/1000\n",
      "3/3 [==============================] - 0s 14ms/step - loss: 0.1435 - val_loss: 0.2786\n",
      "Epoch 235/1000\n",
      "3/3 [==============================] - 0s 14ms/step - loss: 0.1974 - val_loss: 0.2535\n",
      "Epoch 236/1000\n",
      "3/3 [==============================] - 0s 13ms/step - loss: 0.0771 - val_loss: 0.2991\n",
      "Epoch 237/1000\n",
      "3/3 [==============================] - 0s 12ms/step - loss: 0.1001 - val_loss: 0.4260\n",
      "Epoch 238/1000\n",
      "3/3 [==============================] - 0s 9ms/step - loss: 0.1210 - val_loss: 0.3739\n",
      "Epoch 239/1000\n",
      "3/3 [==============================] - 0s 9ms/step - loss: 0.1003 - val_loss: 0.3533\n",
      "Epoch 240/1000\n",
      "3/3 [==============================] - 0s 13ms/step - loss: 0.0810 - val_loss: 0.3434\n",
      "Epoch 241/1000\n",
      "3/3 [==============================] - 0s 9ms/step - loss: 0.0611 - val_loss: 0.3053\n",
      "Epoch 242/1000\n",
      "3/3 [==============================] - 0s 9ms/step - loss: 0.0717 - val_loss: 0.2867\n",
      "Epoch 243/1000\n",
      "3/3 [==============================] - 0s 12ms/step - loss: 0.3007 - val_loss: 0.2511\n",
      "Epoch 244/1000\n",
      "3/3 [==============================] - 0s 12ms/step - loss: 0.0635 - val_loss: 0.2121\n",
      "Epoch 245/1000\n",
      "3/3 [==============================] - 0s 9ms/step - loss: 0.0951 - val_loss: 0.2005\n",
      "Epoch 246/1000\n",
      "3/3 [==============================] - 0s 12ms/step - loss: 0.1544 - val_loss: 0.2722\n",
      "Epoch 247/1000\n",
      "3/3 [==============================] - 0s 9ms/step - loss: 0.1803 - val_loss: 0.2937\n",
      "Epoch 248/1000\n",
      "3/3 [==============================] - 0s 9ms/step - loss: 0.1290 - val_loss: 0.3102\n",
      "Epoch 249/1000\n",
      "3/3 [==============================] - 0s 9ms/step - loss: 0.0898 - val_loss: 0.3014\n",
      "Epoch 250/1000\n",
      "3/3 [==============================] - 0s 9ms/step - loss: 0.0929 - val_loss: 0.3058\n",
      "Epoch 251/1000\n",
      "3/3 [==============================] - 0s 9ms/step - loss: 0.0695 - val_loss: 0.2380\n",
      "Epoch 252/1000\n",
      "3/3 [==============================] - 0s 9ms/step - loss: 0.0560 - val_loss: 0.2026\n",
      "Epoch 253/1000\n",
      "3/3 [==============================] - 0s 9ms/step - loss: 0.0880 - val_loss: 0.2403\n",
      "Epoch 254/1000\n",
      "3/3 [==============================] - 0s 13ms/step - loss: 0.1377 - val_loss: 0.2891\n",
      "Epoch 255/1000\n",
      "3/3 [==============================] - 0s 15ms/step - loss: 0.1590 - val_loss: 0.3374\n",
      "Epoch 256/1000\n",
      "3/3 [==============================] - 0s 16ms/step - loss: 0.1557 - val_loss: 0.2249\n",
      "Epoch 257/1000\n",
      "3/3 [==============================] - 0s 13ms/step - loss: 0.1064 - val_loss: 0.2709\n",
      "Epoch 257: early stopping\n"
     ]
    },
    {
     "data": {
      "text/plain": [
       "<keras.callbacks.History at 0x7f5e1c20fd10>"
      ]
     },
     "execution_count": 52,
     "metadata": {},
     "output_type": "execute_result"
    }
   ],
   "source": [
    "# Train the model with validation\n",
    "early_stopping = EarlyStopping(monitor='loss', patience=40, verbose=1)\n",
    "model.fit({'attr1': attr1_train, 'attr2': attr2_train}, y_true_train, epochs=1000, batch_size=1024, callbacks=[early_stopping], validation_split=0.2)"
   ]
  },
  {
   "cell_type": "code",
   "execution_count": 54,
   "id": "e2981550a4cc2d3f",
   "metadata": {
    "ExecuteTime": {
     "end_time": "2023-10-22T10:39:27.345854Z",
     "start_time": "2023-10-22T10:39:27.230905Z"
    },
    "collapsed": false
   },
   "outputs": [
    {
     "name": "stdout",
     "output_type": "stream",
     "text": [
      "27/27 [==============================] - 0s 759us/step\n"
     ]
    }
   ],
   "source": [
    "# Test the model\n",
    "y_pred_test = model.predict({'attr1': attr1_test, 'attr2': attr2_test})"
   ]
  },
  {
   "cell_type": "code",
   "execution_count": 55,
   "id": "ed1147859b6c9b26",
   "metadata": {
    "ExecuteTime": {
     "end_time": "2023-10-22T10:39:27.346685Z",
     "start_time": "2023-10-22T10:39:27.345790Z"
    },
    "collapsed": false
   },
   "outputs": [],
   "source": [
    "err = y_true_test.reshape(-1)-y_pred_test.reshape(-1)"
   ]
  },
  {
   "cell_type": "code",
   "execution_count": 56,
   "id": "ec5c63f83703eeae",
   "metadata": {
    "ExecuteTime": {
     "end_time": "2023-10-22T10:39:27.348391Z",
     "start_time": "2023-10-22T10:39:27.345916Z"
    },
    "collapsed": false
   },
   "outputs": [
    {
     "name": "stdout",
     "output_type": "stream",
     "text": [
      "0.41454715\n"
     ]
    },
    {
     "data": {
      "text/html": [
       "<div>\n",
       "<style scoped>\n",
       "    .dataframe tbody tr th:only-of-type {\n",
       "        vertical-align: middle;\n",
       "    }\n",
       "\n",
       "    .dataframe tbody tr th {\n",
       "        vertical-align: top;\n",
       "    }\n",
       "\n",
       "    .dataframe thead th {\n",
       "        text-align: right;\n",
       "    }\n",
       "</style>\n",
       "<table border=\"1\" class=\"dataframe\">\n",
       "  <thead>\n",
       "    <tr style=\"text-align: right;\">\n",
       "      <th></th>\n",
       "      <th>y_true</th>\n",
       "      <th>y_pred</th>\n",
       "      <th>mse</th>\n",
       "    </tr>\n",
       "  </thead>\n",
       "  <tbody>\n",
       "    <tr>\n",
       "      <th>0</th>\n",
       "      <td>-11.949515</td>\n",
       "      <td>-12.783025</td>\n",
       "      <td>0.694738</td>\n",
       "    </tr>\n",
       "    <tr>\n",
       "      <th>1</th>\n",
       "      <td>2.932204</td>\n",
       "      <td>3.210140</td>\n",
       "      <td>0.077248</td>\n",
       "    </tr>\n",
       "    <tr>\n",
       "      <th>2</th>\n",
       "      <td>-1.664737</td>\n",
       "      <td>-2.021347</td>\n",
       "      <td>0.127171</td>\n",
       "    </tr>\n",
       "    <tr>\n",
       "      <th>3</th>\n",
       "      <td>3.640304</td>\n",
       "      <td>3.545614</td>\n",
       "      <td>0.008966</td>\n",
       "    </tr>\n",
       "    <tr>\n",
       "      <th>4</th>\n",
       "      <td>3.264165</td>\n",
       "      <td>3.236907</td>\n",
       "      <td>0.000743</td>\n",
       "    </tr>\n",
       "    <tr>\n",
       "      <th>...</th>\n",
       "      <td>...</td>\n",
       "      <td>...</td>\n",
       "      <td>...</td>\n",
       "    </tr>\n",
       "    <tr>\n",
       "      <th>95</th>\n",
       "      <td>2.498791</td>\n",
       "      <td>2.428855</td>\n",
       "      <td>0.004891</td>\n",
       "    </tr>\n",
       "    <tr>\n",
       "      <th>96</th>\n",
       "      <td>3.354602</td>\n",
       "      <td>3.546321</td>\n",
       "      <td>0.036756</td>\n",
       "    </tr>\n",
       "    <tr>\n",
       "      <th>97</th>\n",
       "      <td>-0.450867</td>\n",
       "      <td>-0.846738</td>\n",
       "      <td>0.156713</td>\n",
       "    </tr>\n",
       "    <tr>\n",
       "      <th>98</th>\n",
       "      <td>-6.676960</td>\n",
       "      <td>-7.423625</td>\n",
       "      <td>0.557507</td>\n",
       "    </tr>\n",
       "    <tr>\n",
       "      <th>99</th>\n",
       "      <td>-1.143856</td>\n",
       "      <td>-1.587986</td>\n",
       "      <td>0.197251</td>\n",
       "    </tr>\n",
       "  </tbody>\n",
       "</table>\n",
       "<p>100 rows × 3 columns</p>\n",
       "</div>"
      ],
      "text/plain": [
       "       y_true     y_pred       mse\n",
       "0  -11.949515 -12.783025  0.694738\n",
       "1    2.932204   3.210140  0.077248\n",
       "2   -1.664737  -2.021347  0.127171\n",
       "3    3.640304   3.545614  0.008966\n",
       "4    3.264165   3.236907  0.000743\n",
       "..        ...        ...       ...\n",
       "95   2.498791   2.428855  0.004891\n",
       "96   3.354602   3.546321  0.036756\n",
       "97  -0.450867  -0.846738  0.156713\n",
       "98  -6.676960  -7.423625  0.557507\n",
       "99  -1.143856  -1.587986  0.197251\n",
       "\n",
       "[100 rows x 3 columns]"
      ]
     },
     "execution_count": 55,
     "metadata": {},
     "output_type": "execute_result"
    }
   ],
   "source": [
    "# evaluate the model\n",
    "from sklearn.metrics import mean_squared_error\n",
    "print(mean_squared_error(y_true_test, y_pred_test))\n",
    "pd.DataFrame(\n",
    "    np.stack([y_true_test.reshape(-1), y_pred_test.reshape(-1), np.power(err, 2).reshape(-1)], axis=1),\n",
    "columns=['y_true', 'y_pred', 'mse']).head(100)"
   ]
  },
  {
   "cell_type": "code",
   "execution_count": 57,
   "id": "3dc8a91b91d6de41",
   "metadata": {
    "ExecuteTime": {
     "end_time": "2023-10-22T10:39:27.349125Z",
     "start_time": "2023-10-22T10:39:27.345963Z"
    },
    "collapsed": false
   },
   "outputs": [
    {
     "data": {
      "text/plain": [
       "array([[0.514 , 0.2245, 0.101 , 0.15  ],\n",
       "       [0.2255, 0.0995, 0.0485, 0.07  ],\n",
       "       [0.677 , 0.2565, 0.1415, 0.21  ],\n",
       "       ...,\n",
       "       [1.176 , 0.5255, 0.2875, 0.308 ],\n",
       "       [1.0945, 0.531 , 0.261 , 0.296 ],\n",
       "       [1.9485, 0.9455, 0.3765, 0.495 ]], dtype=float32)"
      ]
     },
     "execution_count": 56,
     "metadata": {},
     "output_type": "execute_result"
    }
   ],
   "source": [
    "attr2"
   ]
  },
  {
   "cell_type": "code",
   "execution_count": 58,
   "id": "b7438de63bb8ddfb",
   "metadata": {
    "ExecuteTime": {
     "end_time": "2023-10-22T10:39:27.442380Z",
     "start_time": "2023-10-22T10:39:27.345990Z"
    },
    "collapsed": false
   },
   "outputs": [
    {
     "name": "stdout",
     "output_type": "stream",
     "text": [
      "4/4 [==============================] - 0s 806us/step\n",
      "4/4 [==============================] - 0s 821us/step\n",
      "4/4 [==============================] - 0s 860us/step\n",
      "4/4 [==============================] - 0s 823us/step\n"
     ]
    }
   ],
   "source": [
    "# watch values around the theoretical minimum of attr2\n",
    "a1 = ((attr1.min(axis=0) + attr1.max(axis=0)) *0.5).reshape(1, -1).repeat(100, axis=0)\n",
    "values = []\n",
    "for i in range(attr2_dimension):\n",
    "    a2 = np.array([[1.3, 0.7, 0.4, 0.5,]]).repeat(100, axis=0)\n",
    "    a2[:, i] += (attr2.max(axis=0)[i] - attr2.min(axis=0)[i]) * np.linspace(-0.5, 0.5, 100)\n",
    "    v_pred = model.predict({'attr1': a1, 'attr2': a2})\n",
    "    v_true = real_objective(a1, a2)\n",
    "    for j in range(100):\n",
    "        values.append({'dim': i, 'v': a2[j, i], 'y_pred': v_pred[j, 0], 'y_true': v_true[j]})"
   ]
  },
  {
   "cell_type": "code",
   "execution_count": 59,
   "id": "a76b6da49c3a256b",
   "metadata": {
    "ExecuteTime": {
     "end_time": "2023-10-22T10:39:27.495884Z",
     "start_time": "2023-10-22T10:39:27.448386Z"
    },
    "collapsed": false
   },
   "outputs": [
    {
     "data": {
      "text/html": [
       "<div>\n",
       "<style scoped>\n",
       "    .dataframe tbody tr th:only-of-type {\n",
       "        vertical-align: middle;\n",
       "    }\n",
       "\n",
       "    .dataframe tbody tr th {\n",
       "        vertical-align: top;\n",
       "    }\n",
       "\n",
       "    .dataframe thead th {\n",
       "        text-align: right;\n",
       "    }\n",
       "</style>\n",
       "<table border=\"1\" class=\"dataframe\">\n",
       "  <thead>\n",
       "    <tr style=\"text-align: right;\">\n",
       "      <th></th>\n",
       "      <th>dim</th>\n",
       "      <th>v</th>\n",
       "      <th>y_pred</th>\n",
       "      <th>y_true</th>\n",
       "    </tr>\n",
       "  </thead>\n",
       "  <tbody>\n",
       "    <tr>\n",
       "      <th>0</th>\n",
       "      <td>0</td>\n",
       "      <td>-0.111750</td>\n",
       "      <td>0.284049</td>\n",
       "      <td>-17.049204</td>\n",
       "    </tr>\n",
       "    <tr>\n",
       "      <th>1</th>\n",
       "      <td>0</td>\n",
       "      <td>-0.083230</td>\n",
       "      <td>0.303754</td>\n",
       "      <td>-15.425235</td>\n",
       "    </tr>\n",
       "    <tr>\n",
       "      <th>2</th>\n",
       "      <td>0</td>\n",
       "      <td>-0.054710</td>\n",
       "      <td>0.324557</td>\n",
       "      <td>-13.896278</td>\n",
       "    </tr>\n",
       "    <tr>\n",
       "      <th>3</th>\n",
       "      <td>0</td>\n",
       "      <td>-0.026189</td>\n",
       "      <td>0.345359</td>\n",
       "      <td>-12.458521</td>\n",
       "    </tr>\n",
       "    <tr>\n",
       "      <th>4</th>\n",
       "      <td>0</td>\n",
       "      <td>0.002331</td>\n",
       "      <td>0.366163</td>\n",
       "      <td>-11.108234</td>\n",
       "    </tr>\n",
       "    <tr>\n",
       "      <th>...</th>\n",
       "      <td>...</td>\n",
       "      <td>...</td>\n",
       "      <td>...</td>\n",
       "      <td>...</td>\n",
       "    </tr>\n",
       "    <tr>\n",
       "      <th>395</th>\n",
       "      <td>3</td>\n",
       "      <td>0.961205</td>\n",
       "      <td>2.688393</td>\n",
       "      <td>2.474930</td>\n",
       "    </tr>\n",
       "    <tr>\n",
       "      <th>396</th>\n",
       "      <td>3</td>\n",
       "      <td>0.971341</td>\n",
       "      <td>2.688393</td>\n",
       "      <td>2.399309</td>\n",
       "    </tr>\n",
       "    <tr>\n",
       "      <th>397</th>\n",
       "      <td>3</td>\n",
       "      <td>0.981477</td>\n",
       "      <td>2.688393</td>\n",
       "      <td>2.322044</td>\n",
       "    </tr>\n",
       "    <tr>\n",
       "      <th>398</th>\n",
       "      <td>3</td>\n",
       "      <td>0.991614</td>\n",
       "      <td>2.688393</td>\n",
       "      <td>2.243135</td>\n",
       "    </tr>\n",
       "    <tr>\n",
       "      <th>399</th>\n",
       "      <td>3</td>\n",
       "      <td>1.001750</td>\n",
       "      <td>2.688393</td>\n",
       "      <td>2.162582</td>\n",
       "    </tr>\n",
       "  </tbody>\n",
       "</table>\n",
       "<p>400 rows × 4 columns</p>\n",
       "</div>"
      ],
      "text/plain": [
       "     dim         v    y_pred     y_true\n",
       "0      0 -0.111750  0.284049 -17.049204\n",
       "1      0 -0.083230  0.303754 -15.425235\n",
       "2      0 -0.054710  0.324557 -13.896278\n",
       "3      0 -0.026189  0.345359 -12.458521\n",
       "4      0  0.002331  0.366163 -11.108234\n",
       "..   ...       ...       ...        ...\n",
       "395    3  0.961205  2.688393   2.474930\n",
       "396    3  0.971341  2.688393   2.399309\n",
       "397    3  0.981477  2.688393   2.322044\n",
       "398    3  0.991614  2.688393   2.243135\n",
       "399    3  1.001750  2.688393   2.162582\n",
       "\n",
       "[400 rows x 4 columns]"
      ]
     },
     "execution_count": 58,
     "metadata": {},
     "output_type": "execute_result"
    }
   ],
   "source": [
    "values_df = pd.DataFrame(values)\n",
    "values_df"
   ]
  },
  {
   "cell_type": "code",
   "execution_count": 60,
   "id": "b336a69f3a67dab1",
   "metadata": {
    "ExecuteTime": {
     "end_time": "2023-10-22T10:39:27.833356Z",
     "start_time": "2023-10-22T10:39:27.495593Z"
    },
    "collapsed": false
   },
   "outputs": [
    {
     "data": {
      "image/png": "[encoded data removed]",
      "text/plain": [
       "<Figure size 2000x500 with 4 Axes>"
      ]
     },
     "metadata": {},
     "output_type": "display_data"
    }
   ],
   "source": [
    "# plot values around the theoretical minimum of attr2 for each dimension\n",
    "fig, ax = plt.subplots(ncols=attr2_dimension, figsize=(20, 5))\n",
    "for i in range(attr2_dimension):\n",
    "    ax[i].plot(values_df[values_df['dim']==i]['v'], values_df[values_df['dim']==i]['y_pred'], label='y_pred')\n",
    "    ax[i].plot(values_df[values_df['dim']==i]['v'], values_df[values_df['dim']==i]['y_true'], label='y_true')\n",
    "    ax[i].set_title(f'dim {i}')\n",
    "    ax[i].set_ylim([1, 5])\n",
    "    ax[i].legend()"
   ]
  },
  {
   "cell_type": "code",
   "execution_count": 61,
   "id": "f33562bb72c1b40c",
   "metadata": {
    "ExecuteTime": {
     "end_time": "2023-10-22T10:39:27.835031Z",
     "start_time": "2023-10-22T10:39:27.833055Z"
    },
    "collapsed": false
   },
   "outputs": [],
   "source": [
    "# Given attr1, find attr2 such that the objective function is maximized\n",
    "# with gradient ascent for the final layer"
   ]
  },
  {
   "cell_type": "code",
   "execution_count": 62,
   "id": "f498b65e633fd9fa",
   "metadata": {
    "ExecuteTime": {
     "end_time": "2023-10-22T10:39:27.839981Z",
     "start_time": "2023-10-22T10:39:27.833185Z"
    },
    "collapsed": false
   },
   "outputs": [],
   "source": [
    "layer = model.get_layer(name='predicted_y')\n",
    "feature_extractor = Model(inputs=model.inputs, outputs=layer.output)\n",
    "\n",
    "def compute_loss(inputs):\n",
    "    activation = feature_extractor(inputs)\n",
    "    # We avoid border artifacts by only involving non-border pixels in the loss.\n",
    "    return tf.reduce_mean(activation)\n",
    "\n",
    "@tf.function\n",
    "def gradient_ascent_step(input_attr1, input_attr2, learning_rate):\n",
    "    inputs = {'attr1': input_attr1, 'attr2': input_attr2}\n",
    "    with tf.GradientTape() as tape:\n",
    "        tape.watch(inputs)\n",
    "        loss = feature_extractor(inputs)\n",
    "    # Compute gradients.\n",
    "    _grads = tape.gradient(loss, input_attr2)\n",
    "    # Normalize gradients.\n",
    "    grads = tf.math.l2_normalize(_grads)\n",
    "    input_attr2 += learning_rate * grads\n",
    "    # clip the values of input_attr2 to the range of attr2\n",
    "    input_attr2 = tf.clip_by_value(input_attr2, attr2_min, attr2_max)\n",
    "    return loss, input_attr2, grads, _grads"
   ]
  },
  {
   "cell_type": "code",
   "execution_count": 63,
   "id": "a768a7eda936b4b2",
   "metadata": {
    "ExecuteTime": {
     "end_time": "2023-10-22T10:39:27.841084Z",
     "start_time": "2023-10-22T10:39:27.837247Z"
    },
    "collapsed": false
   },
   "outputs": [],
   "source": [
    "# constraint of attr2 by the observed min and max values\n",
    "attr2_min = np.min(attr2, axis=0)\n",
    "attr2_max = np.max(attr2, axis=0)"
   ]
  },
  {
   "cell_type": "code",
   "execution_count": 64,
   "id": "bafce44c2832fa8a",
   "metadata": {
    "ExecuteTime": {
     "end_time": "2023-10-22T10:39:27.842165Z",
     "start_time": "2023-10-22T10:39:27.837289Z"
    },
    "collapsed": false
   },
   "outputs": [],
   "source": [
    "def visualize_attr2(input_attr1, input_attr2, epochs, steps_per_epoch, learning_rate):\n",
    "    if input_attr2 is None:\n",
    "        # assign random values to input_attr2\n",
    "        # input_attr2 = tf.random.uniform(shape=(input_attr1.shape[0], attr2_dimension))\n",
    "        # assign 0.5 to input_attr2\n",
    "        # input_attr2 = tf.ones(shape=(input_attr1.shape[0], attr2_dimension))*0.5\n",
    "        input_attr2 = tf.constant([[1.3, 0.7, 0.4, 0.5] for _ in range(input_attr1.shape[0])])\n",
    "    # plot the loss each step\n",
    "    for epoch in range(epochs):\n",
    "        with tqdm(total=steps_per_epoch) as pbar:\n",
    "            for step in range(steps_per_epoch):\n",
    "                loss, input_attr2, ngrad, grads = gradient_ascent_step(input_attr1, input_attr2, learning_rate)\n",
    "                avg_loss = tf.reduce_mean(loss)\n",
    "                pbar.desc = \"[Epoch %d/%d]Loss at step %d: %.2f\" % (epoch, epochs, step, avg_loss)\n",
    "                pbar.update(1)\n",
    "\n",
    "    return loss, input_attr2, ngrad, grads\n",
    "\n",
    "# # try run one gradient ascent step\n",
    "# input_attr2 = tf.random.uniform(shape=(1, attr2_dimension))\n",
    "# loss, x, grad = gradient_ascent_step(attr1_test[:1], input_attr2, 0.01)\n",
    "# # clip the values of x to the range of attr2\n",
    "# x = tf.clip_by_value(x, attr2_min, attr2_max)"
   ]
  },
  {
   "cell_type": "code",
   "execution_count": 65,
   "id": "c240aa7c9f6588fe",
   "metadata": {
    "ExecuteTime": {
     "end_time": "2023-10-22T10:39:28.868365Z",
     "start_time": "2023-10-22T10:39:27.838372Z"
    },
    "collapsed": false
   },
   "outputs": [
    {
     "name": "stderr",
     "output_type": "stream",
     "text": [
      "[Epoch 0/10]Loss at step 99: 3.54: 100%|##########| 100/100 [00:00<00:00, 421.62it/s]\n",
      "[Epoch 1/10]Loss at step 99: 3.55: 100%|##########| 100/100 [00:00<00:00, 1120.58it/s]\n",
      "[Epoch 2/10]Loss at step 99: 3.55: 100%|##########| 100/100 [00:00<00:00, 1120.95it/s]\n",
      "[Epoch 3/10]Loss at step 99: 3.55: 100%|##########| 100/100 [00:00<00:00, 1120.88it/s]\n",
      "[Epoch 4/10]Loss at step 99: 3.55: 100%|##########| 100/100 [00:00<00:00, 1123.41it/s]\n",
      "[Epoch 5/10]Loss at step 99: 3.55: 100%|##########| 100/100 [00:00<00:00, 1121.36it/s]\n",
      "[Epoch 6/10]Loss at step 99: 3.55: 100%|##########| 100/100 [00:00<00:00, 1147.41it/s]\n",
      "[Epoch 7/10]Loss at step 99: 3.55: 100%|##########| 100/100 [00:00<00:00, 1129.32it/s]\n",
      "[Epoch 8/10]Loss at step 99: 3.55: 100%|##########| 100/100 [00:00<00:00, 884.47it/s]\n",
      "[Epoch 9/10]Loss at step 99: 3.54: 100%|##########| 100/100 [00:00<00:00, 882.13it/s]\n"
     ]
    },
    {
     "data": {
      "text/plain": [
       "<tf.Tensor: shape=(1, 4), dtype=float32, numpy=array([[ 2.720335 , -0.4438674,  2.6954584,  1.0794913]], dtype=float32)>"
      ]
     },
     "metadata": {},
     "output_type": "display_data"
    },
    {
     "data": {
      "text/plain": [
       "<tf.Tensor: shape=(1, 4), dtype=float32, numpy=array([[1.0214564 , 0.6587202 , 0.32333687, 0.48523998]], dtype=float32)>"
      ]
     },
     "metadata": {},
     "output_type": "display_data"
    }
   ],
   "source": [
    "loss, estimated_attr2, ngrad, grads = visualize_attr2(attr1_test[:1], None, epochs=10, steps_per_epoch=100, learning_rate=0.01)\n",
    "display(grads)\n",
    "display(estimated_attr2)"
   ]
  },
  {
   "cell_type": "code",
   "execution_count": 66,
   "id": "a64bfa4b729ea11a",
   "metadata": {
    "ExecuteTime": {
     "end_time": "2023-10-22T10:39:29.951508Z",
     "start_time": "2023-10-22T10:39:28.868285Z"
    },
    "collapsed": false
   },
   "outputs": [
    {
     "name": "stderr",
     "output_type": "stream",
     "text": [
      "[Epoch 0/10]Loss at step 99: 3.55: 100%|##########| 100/100 [00:00<00:00, 881.40it/s]\n",
      "[Epoch 1/10]Loss at step 99: 3.55: 100%|##########| 100/100 [00:00<00:00, 888.67it/s]\n",
      "[Epoch 2/10]Loss at step 99: 3.55: 100%|##########| 100/100 [00:00<00:00, 897.61it/s]\n",
      "[Epoch 3/10]Loss at step 99: 3.55: 100%|##########| 100/100 [00:00<00:00, 899.28it/s]\n",
      "[Epoch 4/10]Loss at step 99: 3.55: 100%|##########| 100/100 [00:00<00:00, 900.70it/s]\n",
      "[Epoch 5/10]Loss at step 99: 3.55: 100%|##########| 100/100 [00:00<00:00, 896.08it/s]\n",
      "[Epoch 6/10]Loss at step 99: 3.55: 100%|##########| 100/100 [00:00<00:00, 901.23it/s]\n",
      "[Epoch 7/10]Loss at step 99: 3.55: 100%|##########| 100/100 [00:00<00:00, 898.38it/s]\n",
      "[Epoch 8/10]Loss at step 99: 3.55: 100%|##########| 100/100 [00:00<00:00, 894.82it/s]\n",
      "[Epoch 9/10]Loss at step 99: 3.55: 100%|##########| 100/100 [00:00<00:00, 893.88it/s]\n"
     ]
    },
    {
     "data": {
      "text/plain": [
       "<tf.Tensor: shape=(1, 4), dtype=float32, numpy=\n",
       "array([[-0.05501751, -0.00105886, -0.02431553, -0.01607947]],\n",
       "      dtype=float32)>"
      ]
     },
     "metadata": {},
     "output_type": "display_data"
    },
    {
     "data": {
      "text/plain": [
       "<tf.Tensor: shape=(1, 4), dtype=float32, numpy=array([[0.88643813, 0.8882056 , 0.4272477 , 0.42060715]], dtype=float32)>"
      ]
     },
     "metadata": {},
     "output_type": "display_data"
    }
   ],
   "source": [
    "loss, estimated_attr2, ngrad, grads = visualize_attr2(attr1_test[2:3], None, epochs=10, steps_per_epoch=100, learning_rate=0.01)\n",
    "display(grads)\n",
    "display(estimated_attr2)"
   ]
  },
  {
   "cell_type": "code",
   "execution_count": 74,
   "id": "5aa608df9e6daf42",
   "metadata": {
    "ExecuteTime": {
     "end_time": "2023-10-22T10:40:21.142758Z",
     "start_time": "2023-10-22T10:40:19.455594Z"
    },
    "collapsed": false
   },
   "outputs": [
    {
     "name": "stderr",
     "output_type": "stream",
     "text": [
      "[Epoch 0/10]Loss at step 99: 3.53: 100%|##########| 100/100 [00:00<00:00, 432.59it/s]\n",
      "[Epoch 1/10]Loss at step 99: 3.53: 100%|##########| 100/100 [00:00<00:00, 670.91it/s]\n",
      "[Epoch 2/10]Loss at step 99: 3.53: 100%|##########| 100/100 [00:00<00:00, 671.96it/s]\n",
      "[Epoch 3/10]Loss at step 99: 3.54: 100%|##########| 100/100 [00:00<00:00, 670.31it/s]\n",
      "[Epoch 4/10]Loss at step 99: 3.54: 100%|##########| 100/100 [00:00<00:00, 670.85it/s]\n",
      "[Epoch 5/10]Loss at step 99: 3.54: 100%|##########| 100/100 [00:00<00:00, 671.09it/s]\n",
      "[Epoch 6/10]Loss at step 99: 3.54: 100%|##########| 100/100 [00:00<00:00, 689.99it/s]\n",
      "[Epoch 7/10]Loss at step 99: 3.54: 100%|##########| 100/100 [00:00<00:00, 685.57it/s]\n",
      "[Epoch 8/10]Loss at step 99: 3.54: 100%|##########| 100/100 [00:00<00:00, 685.43it/s]\n",
      "[Epoch 9/10]Loss at step 99: 3.54: 100%|##########| 100/100 [00:00<00:00, 640.19it/s]\n"
     ]
    },
    {
     "data": {
      "text/plain": [
       "<tf.Tensor: shape=(836, 4), dtype=float32, numpy=\n",
       "array([[ 1.0517542e-02,  2.5295889e-02, -4.5152292e-02, -6.3655023e-03],\n",
       "       [-1.6660929e-02,  6.6132210e-03,  6.0239559e-05, -3.4029980e-03],\n",
       "       [-1.6660929e-02,  6.6132210e-03,  6.0239559e-05, -3.4029980e-03],\n",
       "       ...,\n",
       "       [-1.6660929e-02,  6.6132210e-03,  6.0239559e-05, -3.4029980e-03],\n",
       "       [-1.6660929e-02,  6.6132210e-03,  6.0239559e-05, -3.4029980e-03],\n",
       "       [-1.6660929e-02,  6.6132210e-03,  6.0239559e-05, -3.4029980e-03]],\n",
       "      dtype=float32)>"
      ]
     },
     "metadata": {},
     "output_type": "display_data"
    },
    {
     "data": {
      "text/plain": [
       "<tf.Tensor: shape=(836, 4), dtype=float32, numpy=\n",
       "array([[1.1241584 , 0.651844  , 0.4030385 , 0.5169994 ],\n",
       "       [1.2630323 , 0.71467423, 0.40013352, 0.49244937],\n",
       "       [1.2630323 , 0.71467423, 0.40013352, 0.49244937],\n",
       "       ...,\n",
       "       [1.2630323 , 0.71467423, 0.40013352, 0.49244937],\n",
       "       [1.2630323 , 0.71467423, 0.40013352, 0.49244937],\n",
       "       [1.2630323 , 0.71467423, 0.40013352, 0.49244937]], dtype=float32)>"
      ]
     },
     "metadata": {},
     "output_type": "display_data"
    }
   ],
   "source": [
    "loss, estimated_attr2, ngrad, grads = visualize_attr2(attr1_test, None, epochs=10, steps_per_epoch=100, learning_rate=0.01)\n",
    "display(grads)\n",
    "display(estimated_attr2)"
   ]
  },
  {
   "cell_type": "code",
   "execution_count": 76,
   "id": "bb9618090097da8e",
   "metadata": {
    "ExecuteTime": {
     "end_time": "2023-10-22T10:40:46.668385Z",
     "start_time": "2023-10-22T10:40:46.668245Z"
    },
    "collapsed": false
   },
   "outputs": [
    {
     "data": {
      "text/html": [
       "<div>\n",
       "<style scoped>\n",
       "    .dataframe tbody tr th:only-of-type {\n",
       "        vertical-align: middle;\n",
       "    }\n",
       "\n",
       "    .dataframe tbody tr th {\n",
       "        vertical-align: top;\n",
       "    }\n",
       "\n",
       "    .dataframe thead th {\n",
       "        text-align: right;\n",
       "    }\n",
       "</style>\n",
       "<table border=\"1\" class=\"dataframe\">\n",
       "  <thead>\n",
       "    <tr style=\"text-align: right;\">\n",
       "      <th></th>\n",
       "      <th>0</th>\n",
       "      <th>1</th>\n",
       "      <th>2</th>\n",
       "      <th>3</th>\n",
       "    </tr>\n",
       "  </thead>\n",
       "  <tbody>\n",
       "    <tr>\n",
       "      <th>0</th>\n",
       "      <td>1.124158</td>\n",
       "      <td>0.651844</td>\n",
       "      <td>0.403039</td>\n",
       "      <td>0.516999</td>\n",
       "    </tr>\n",
       "    <tr>\n",
       "      <th>1</th>\n",
       "      <td>1.263032</td>\n",
       "      <td>0.714674</td>\n",
       "      <td>0.400134</td>\n",
       "      <td>0.492449</td>\n",
       "    </tr>\n",
       "    <tr>\n",
       "      <th>2</th>\n",
       "      <td>1.263032</td>\n",
       "      <td>0.714674</td>\n",
       "      <td>0.400134</td>\n",
       "      <td>0.492449</td>\n",
       "    </tr>\n",
       "    <tr>\n",
       "      <th>3</th>\n",
       "      <td>1.263032</td>\n",
       "      <td>0.714674</td>\n",
       "      <td>0.400134</td>\n",
       "      <td>0.492449</td>\n",
       "    </tr>\n",
       "    <tr>\n",
       "      <th>4</th>\n",
       "      <td>1.263032</td>\n",
       "      <td>0.714674</td>\n",
       "      <td>0.400134</td>\n",
       "      <td>0.492449</td>\n",
       "    </tr>\n",
       "    <tr>\n",
       "      <th>...</th>\n",
       "      <td>...</td>\n",
       "      <td>...</td>\n",
       "      <td>...</td>\n",
       "      <td>...</td>\n",
       "    </tr>\n",
       "    <tr>\n",
       "      <th>831</th>\n",
       "      <td>1.263032</td>\n",
       "      <td>0.714674</td>\n",
       "      <td>0.400134</td>\n",
       "      <td>0.492449</td>\n",
       "    </tr>\n",
       "    <tr>\n",
       "      <th>832</th>\n",
       "      <td>1.263032</td>\n",
       "      <td>0.714674</td>\n",
       "      <td>0.400134</td>\n",
       "      <td>0.492449</td>\n",
       "    </tr>\n",
       "    <tr>\n",
       "      <th>833</th>\n",
       "      <td>1.263032</td>\n",
       "      <td>0.714674</td>\n",
       "      <td>0.400134</td>\n",
       "      <td>0.492449</td>\n",
       "    </tr>\n",
       "    <tr>\n",
       "      <th>834</th>\n",
       "      <td>1.263032</td>\n",
       "      <td>0.714674</td>\n",
       "      <td>0.400134</td>\n",
       "      <td>0.492449</td>\n",
       "    </tr>\n",
       "    <tr>\n",
       "      <th>835</th>\n",
       "      <td>1.263032</td>\n",
       "      <td>0.714674</td>\n",
       "      <td>0.400134</td>\n",
       "      <td>0.492449</td>\n",
       "    </tr>\n",
       "  </tbody>\n",
       "</table>\n",
       "<p>836 rows × 4 columns</p>\n",
       "</div>"
      ],
      "text/plain": [
       "            0         1         2         3\n",
       "0    1.124158  0.651844  0.403039  0.516999\n",
       "1    1.263032  0.714674  0.400134  0.492449\n",
       "2    1.263032  0.714674  0.400134  0.492449\n",
       "3    1.263032  0.714674  0.400134  0.492449\n",
       "4    1.263032  0.714674  0.400134  0.492449\n",
       "..        ...       ...       ...       ...\n",
       "831  1.263032  0.714674  0.400134  0.492449\n",
       "832  1.263032  0.714674  0.400134  0.492449\n",
       "833  1.263032  0.714674  0.400134  0.492449\n",
       "834  1.263032  0.714674  0.400134  0.492449\n",
       "835  1.263032  0.714674  0.400134  0.492449\n",
       "\n",
       "[836 rows x 4 columns]"
      ]
     },
     "execution_count": 74,
     "metadata": {},
     "output_type": "execute_result"
    }
   ],
   "source": [
    "pd.DataFrame(\n",
    "    estimated_attr2.numpy()\n",
    ")"
   ]
  },
  {
   "cell_type": "code",
   "execution_count": 69,
   "id": "b305240f6da089b5",
   "metadata": {
    "ExecuteTime": {
     "end_time": "2023-10-22T10:39:30.004677Z",
     "start_time": "2023-10-22T10:39:30.003622Z"
    },
    "collapsed": false
   },
   "outputs": [
    {
     "data": {
      "text/plain": [
       "<tf.Tensor: shape=(1, 4), dtype=float32, numpy=array([[0.88643813, 0.8882056 , 0.4272477 , 0.42060715]], dtype=float32)>"
      ]
     },
     "execution_count": 68,
     "metadata": {},
     "output_type": "execute_result"
    }
   ],
   "source": [
    "# should be [1.3, 0.7, 0.4, 0.5]\n",
    "estimated_attr2"
   ]
  },
  {
   "cell_type": "code",
   "execution_count": 70,
   "id": "cdf585e81f359118",
   "metadata": {
    "ExecuteTime": {
     "end_time": "2023-10-22T10:39:30.005982Z",
     "start_time": "2023-10-22T10:39:30.003687Z"
    },
    "collapsed": false
   },
   "outputs": [
    {
     "data": {
      "text/plain": [
       "<tf.Tensor: shape=(1, 4), dtype=float32, numpy=array([[0.88643813, 0.8882056 , 0.4272477 , 0.42060715]], dtype=float32)>"
      ]
     },
     "execution_count": 69,
     "metadata": {},
     "output_type": "execute_result"
    }
   ],
   "source": [
    "estimated_attr2"
   ]
  },
  {
   "cell_type": "code",
   "execution_count": 71,
   "id": "814cc01ce96f560",
   "metadata": {
    "ExecuteTime": {
     "end_time": "2023-10-22T10:39:30.006647Z",
     "start_time": "2023-10-22T10:39:30.003719Z"
    },
    "collapsed": false
   },
   "outputs": [],
   "source": [
    "# make x tf tensor with value [1.3, 0.7, 0.4, 0.5]\n",
    "x = tf.Variable([1.3, 0.7, 0.4, 0.5])"
   ]
  },
  {
   "cell_type": "code",
   "execution_count": 72,
   "id": "bc8d28d34f292c0b",
   "metadata": {
    "ExecuteTime": {
     "end_time": "2023-10-22T10:39:30.006675Z",
     "start_time": "2023-10-22T10:39:30.003749Z"
    },
    "collapsed": false
   },
   "outputs": [
    {
     "data": {
      "text/plain": [
       "<tf.Variable 'Variable:0' shape=(4,) dtype=float32, numpy=array([1.3, 0.7, 0.4, 0.5], dtype=float32)>"
      ]
     },
     "execution_count": 71,
     "metadata": {},
     "output_type": "execute_result"
    }
   ],
   "source": [
    "x"
   ]
  },
  {
   "cell_type": "code",
   "execution_count": 73,
   "id": "ccd75e46e9172c0c",
   "metadata": {
    "ExecuteTime": {
     "end_time": "2023-10-22T10:39:30.007299Z",
     "start_time": "2023-10-22T10:39:30.003848Z"
    },
    "collapsed": false
   },
   "outputs": [],
   "source": []
  }
 ],
 "metadata": {
  "kernelspec": {
   "display_name": "Python 3.7 (XPython)",
   "language": "python",
   "name": "xpython"
  },
  "language_info": {
   "file_extension": ".py",
   "mimetype": "text/x-python",
   "name": "python",
   "version": "3.7.16"
  }
 },
 "nbformat": 4,
 "nbformat_minor": 5
}
